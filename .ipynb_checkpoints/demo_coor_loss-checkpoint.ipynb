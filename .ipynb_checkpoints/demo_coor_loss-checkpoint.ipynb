{
 "cells": [
  {
   "cell_type": "code",
   "execution_count": 1,
   "id": "b5dffbc8",
   "metadata": {},
   "outputs": [],
   "source": [
    "import tensorflow as tf\n",
    "import numpy as np\n",
    "import dataset\n",
    "import models\n",
    "from utils import iou\n",
    "\n",
    "input_shape = (448, 448, 3)\n",
    "seed = 42"
   ]
  },
  {
   "cell_type": "code",
   "execution_count": 2,
   "id": "e760390d",
   "metadata": {},
   "outputs": [
    {
     "name": "stderr",
     "output_type": "stream",
     "text": [
      "26it [00:00, 60.23it/s]/opt/anaconda3/lib/python3.8/site-packages/PIL/Image.py:962: UserWarning: Palette images with Transparency expressed in bytes should be converted to RGBA images\n",
      "  warnings.warn(\n",
      "240it [00:05, 47.07it/s]\n"
     ]
    }
   ],
   "source": [
    "train_df = dataset.get_dataframe('./fruits_dataset/train')\n",
    "train_dataset = dataset.load_dataset_from_df(train_df, num_epochs=10, seed=seed)"
   ]
  },
  {
   "cell_type": "code",
   "execution_count": 3,
   "id": "ece21948",
   "metadata": {},
   "outputs": [],
   "source": [
    "first_batch = next(iter(train_dataset))\n",
    "batch_input = first_batch[0]\n",
    "batch_target = first_batch[1]"
   ]
  },
  {
   "cell_type": "code",
   "execution_count": 4,
   "id": "490be247",
   "metadata": {},
   "outputs": [],
   "source": [
    "yolo = models.YoloV1(input_shape=input_shape, num_classes=3)"
   ]
  },
  {
   "cell_type": "code",
   "execution_count": 5,
   "id": "f4d096b5",
   "metadata": {},
   "outputs": [],
   "source": [
    "batch_output = yolo(batch_input)"
   ]
  },
  {
   "cell_type": "code",
   "execution_count": 6,
   "id": "f4bf96d1",
   "metadata": {},
   "outputs": [],
   "source": [
    "t_box = batch_target[..., :4]\n",
    "t_obj = batch_target[..., 4]\n",
    "t_cls = batch_target[..., 5:]\n",
    "\n",
    "o_box1 = batch_output[..., :4]\n",
    "o_obj1 = batch_output[..., 4]\n",
    "o_box2 = batch_output[..., 5:9]\n",
    "o_obj2 = batch_output[..., 9]\n",
    "o_cls = batch_output[..., 10:]"
   ]
  },
  {
   "cell_type": "code",
   "execution_count": 7,
   "id": "0cc5e134",
   "metadata": {},
   "outputs": [],
   "source": [
    "def convert_xy_offset_to_xy_center(cellboxes):\n",
    "    x_offset = cellboxes[..., 0]\n",
    "    y_offset = cellboxes[..., 1]\n",
    "    w = cellboxes[..., 2]\n",
    "    h = cellboxes[..., 3]\n",
    "    \n",
    "    num_w_cells = x_offset.shape[-1]\n",
    "    num_h_cells = x_offset.shape[-2]\n",
    "    \n",
    "    # w_cell_indices: [[0, 1, 2, ...], [0, 1, 2, ...], ...]\n",
    "    w_cell_indices = np.array(range(num_w_cells))\n",
    "    w_cell_indices = np.broadcast_to(w_cell_indices, x_offset.shape)\n",
    "    \n",
    "    # h_cell_indices: [[0, 0, 0, ...], [1, 1, 1, ...], ....]\n",
    "    h_cell_indices = np.array(range(num_h_cells))\n",
    "    h_cell_indices = np.repeat(h_cell_indices, 7, 0).reshape(x_offset.shape[-2:])\n",
    "    h_cell_indices = np.broadcast_to(h_cell_indices, x_offset.shape)\n",
    "    \n",
    "    x_center = (x_offset + w_cell_indices) / num_w_cells\n",
    "    y_center = (y_offset + h_cell_indices) / num_h_cells\n",
    "    \n",
    "    mask = tf.cast((x_offset > 0), tf.float32)\n",
    "    \n",
    "    x_center *= mask\n",
    "    y_center *= mask\n",
    "    \n",
    "    xy = tf.stack([x_center, y_center], axis=-1)\n",
    "    \n",
    "    w = tf.expand_dims(w, -1)\n",
    "    h = tf.expand_dims(h, -1)\n",
    "    \n",
    "    bboxes = tf.concat([xy, w, h], axis=-1)\n",
    "    \n",
    "    return bboxes\n",
    "\n",
    "def convert_to_corner_bbox(cellboxes):\n",
    "    bboxes = convert_xy_offset_to_xy_center(cellboxes)\n",
    "    x, y, w, h = bboxes[..., 0], bboxes[..., 1], bboxes[..., 2], bboxes[..., 3]\n",
    "    \n",
    "    x_min = x - (w / 2)\n",
    "    y_min = y - (h / 2)\n",
    "    x_max = x + (w / 2)\n",
    "    y_max = y + (h / 2)\n",
    "    \n",
    "    corner_bboxes = tf.stack([x_min, y_min, x_max, y_max], axis=-1)\n",
    "        \n",
    "    return corner_bboxes"
   ]
  },
  {
   "cell_type": "code",
   "execution_count": 8,
   "id": "be36dca3",
   "metadata": {},
   "outputs": [],
   "source": [
    "t_corner_bboxes = convert_to_corner_bbox(t_box)\n",
    "o_corner_bboxes1 = convert_to_corner_bbox(o_box1)\n",
    "o_corner_bboxes2 = convert_to_corner_bbox(o_box2)"
   ]
  },
  {
   "cell_type": "code",
   "execution_count": 9,
   "id": "8d857c96",
   "metadata": {
    "scrolled": true
   },
   "outputs": [],
   "source": [
    "iou_box1 = iou(o_corner_bboxes1, t_corner_bboxes)\n",
    "iou_box2 = iou(o_corner_bboxes2, t_corner_bboxes)"
   ]
  },
  {
   "cell_type": "code",
   "execution_count": 10,
   "id": "c59fc8fe",
   "metadata": {
    "scrolled": true
   },
   "outputs": [],
   "source": [
    "iou_box1 = tf.expand_dims(iou_box1, -1)\n",
    "iou_box2 = tf.expand_dims(iou_box2, -1)"
   ]
  },
  {
   "cell_type": "code",
   "execution_count": 12,
   "id": "4f7500a0",
   "metadata": {},
   "outputs": [],
   "source": [
    "iou_concat = tf.concat([iou_box1, iou_box2], axis=-1)"
   ]
  },
  {
   "cell_type": "code",
   "execution_count": 187,
   "id": "f7744cca",
   "metadata": {
    "scrolled": true
   },
   "outputs": [],
   "source": [
    "responsible_box = tf.math.argmax(iou_concat, axis=-1)\n",
    "responsible_box = tf.cast(responsible_box, tf.float32)"
   ]
  },
  {
   "cell_type": "code",
   "execution_count": null,
   "id": "0edb3ef1",
   "metadata": {},
   "outputs": [],
   "source": []
  },
  {
   "cell_type": "markdown",
   "id": "fb74760e",
   "metadata": {},
   "source": [
    "# **Demo class dist. loss**"
   ]
  },
  {
   "cell_type": "markdown",
   "id": "e2e4f29e",
   "metadata": {},
   "source": [
    "## **xy loss**"
   ]
  },
  {
   "cell_type": "code",
   "execution_count": 229,
   "id": "df3977c7",
   "metadata": {},
   "outputs": [],
   "source": [
    "# Get xy, wh\n",
    "target_xy, target_wh = t_box[..., :2], t_box[..., 2:]\n",
    "\n",
    "box1_xy, box1_wh = o_box1[..., :2], o_box1[..., 2:]\n",
    "\n",
    "box2_xy, box2_wh = o_box2[..., :2], o_box2[..., 2:]"
   ]
  },
  {
   "cell_type": "code",
   "execution_count": 230,
   "id": "84973928",
   "metadata": {
    "scrolled": true
   },
   "outputs": [],
   "source": [
    "# (x - x_hat)^2, (y - y_hat)^2\n",
    "sqr_err_1 = tf.square(target_xy - box1_xy)\n",
    "sqr_err_2 = tf.square(target_xy - box2_xy)"
   ]
  },
  {
   "cell_type": "code",
   "execution_count": 231,
   "id": "dc0d68ef",
   "metadata": {
    "scrolled": true
   },
   "outputs": [],
   "source": [
    "# [(x - x_hat)^2 + (y - y_hat)^2]\n",
    "sum_xy_1 = tf.reduce_sum(sqr_err_1, -1)\n",
    "sum_xy_2 = tf.reduce_sum(sqr_err_2, -1)"
   ]
  },
  {
   "cell_type": "code",
   "execution_count": 232,
   "id": "9c23ff34",
   "metadata": {},
   "outputs": [],
   "source": [
    "# 1obj_j * [(x - x_hat)^2 + (y - y_hat)^2]\n",
    "predictor_1 = sum_xy_1 * (1 - responsible_box)\n",
    "predictor_2 = sum_xy_2 * responsible_box"
   ]
  },
  {
   "cell_type": "code",
   "execution_count": 234,
   "id": "0e2ca567",
   "metadata": {
    "scrolled": true
   },
   "outputs": [],
   "source": [
    "# 1obj_ij * [(x - x_hat)^2 + (y - y_hat)^2]\n",
    "obj_predictor_1 = predictor_1 * t_obj\n",
    "obj_predictor_2 = predictor_2 * t_obj"
   ]
  },
  {
   "cell_type": "code",
   "execution_count": 255,
   "id": "625888a7",
   "metadata": {},
   "outputs": [],
   "source": [
    "xy_predictor = obj_predictor_1 + obj_predictor_2"
   ]
  },
  {
   "cell_type": "code",
   "execution_count": 273,
   "id": "26323f08",
   "metadata": {},
   "outputs": [],
   "source": [
    "single_loss = tf.reduce_sum(xy_predictor, [1, 2])"
   ]
  },
  {
   "cell_type": "code",
   "execution_count": 298,
   "id": "658c598a",
   "metadata": {},
   "outputs": [],
   "source": [
    "batch_loss = tf.reduce_mean(single_loss)"
   ]
  },
  {
   "cell_type": "code",
   "execution_count": 299,
   "id": "00c8c7d7",
   "metadata": {},
   "outputs": [
    {
     "data": {
      "text/plain": [
       "<tf.Tensor: shape=(), dtype=float32, numpy=4.208332>"
      ]
     },
     "execution_count": 299,
     "metadata": {},
     "output_type": "execute_result"
    }
   ],
   "source": [
    "coord_weight = 5\n",
    "batch_loss *= coord_weight\n",
    "batch_loss"
   ]
  },
  {
   "cell_type": "code",
   "execution_count": null,
   "id": "5690e700",
   "metadata": {},
   "outputs": [],
   "source": []
  },
  {
   "cell_type": "markdown",
   "id": "63fad0c5",
   "metadata": {},
   "source": [
    "## **wh loss**"
   ]
  },
  {
   "cell_type": "code",
   "execution_count": 313,
   "id": "bd6f7f21",
   "metadata": {
    "scrolled": true
   },
   "outputs": [],
   "source": [
    "# (sqrt(w) - sqrt(w_hat))^2 , (sqrt(h) - sqrt(h_hat))^2 \n",
    "sqrt_target_wh = tf.sqrt(target_wh)\n",
    "sqrt_box1_wh = tf.sqrt(box1_wh)\n",
    "sqrt_box2_wh = tf.sqrt(box2_wh)\n",
    "\n",
    "sqr_err_wh_1 = tf.square(sqrt_target_wh - sqrt_box1_wh)\n",
    "sqr_err_wh_2 = tf.square(sqrt_target_wh - sqrt_box2_wh)"
   ]
  },
  {
   "cell_type": "code",
   "execution_count": 327,
   "id": "cc1913bc",
   "metadata": {
    "scrolled": true
   },
   "outputs": [],
   "source": [
    "# [(sqrt(w) - sqrt(w_hat))^2 + (sqrt(h) - sqrt(h_hat))^2]\n"
   ]
  },
  {
   "cell_type": "code",
   "execution_count": null,
   "id": "cfa4f5c1",
   "metadata": {
    "scrolled": true
   },
   "outputs": [],
   "source": []
  },
  {
   "cell_type": "code",
   "execution_count": null,
   "id": "aeb2d04b",
   "metadata": {},
   "outputs": [],
   "source": []
  }
 ],
 "metadata": {
  "kernelspec": {
   "display_name": "Python 3",
   "language": "python",
   "name": "python3"
  },
  "language_info": {
   "codemirror_mode": {
    "name": "ipython",
    "version": 3
   },
   "file_extension": ".py",
   "mimetype": "text/x-python",
   "name": "python",
   "nbconvert_exporter": "python",
   "pygments_lexer": "ipython3",
   "version": "3.8.8"
  }
 },
 "nbformat": 4,
 "nbformat_minor": 5
}
