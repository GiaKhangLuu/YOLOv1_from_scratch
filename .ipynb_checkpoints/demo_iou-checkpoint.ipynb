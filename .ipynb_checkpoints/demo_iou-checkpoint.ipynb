{
 "cells": [
  {
   "cell_type": "code",
   "execution_count": 1,
   "id": "cff433a6",
   "metadata": {},
   "outputs": [
    {
     "ename": "SyntaxError",
     "evalue": "closing parenthesis ']' does not match opening parenthesis '(' (models.py, line 68)",
     "output_type": "error",
     "traceback": [
      "Traceback \u001b[0;36m(most recent call last)\u001b[0m:\n",
      "  File \u001b[1;32m\"/opt/anaconda3/lib/python3.8/site-packages/IPython/core/interactiveshell.py\"\u001b[0m, line \u001b[1;32m3437\u001b[0m, in \u001b[1;35mrun_code\u001b[0m\n    exec(code_obj, self.user_global_ns, self.user_ns)\n",
      "\u001b[0;36m  File \u001b[0;32m\"<ipython-input-1-f176fd68635b>\"\u001b[0;36m, line \u001b[0;32m1\u001b[0;36m, in \u001b[0;35m<module>\u001b[0;36m\u001b[0m\n\u001b[0;31m    from models import ConvBlock, ConvWithBatchNorm\u001b[0m\n",
      "\u001b[0;36m  File \u001b[0;32m\"/Users/giakhang/ML-DL/Project/YOLOv1_from_scratch/models.py\"\u001b[0;36m, line \u001b[0;32m68\u001b[0m\n\u001b[0;31m    super().__init__([InputLayer(input_shape=(28, 28, 512)] + models)\u001b[0m\n\u001b[0m                                                          ^\u001b[0m\n\u001b[0;31mSyntaxError\u001b[0m\u001b[0;31m:\u001b[0m closing parenthesis ']' does not match opening parenthesis '('\n"
     ]
    }
   ],
   "source": [
    "from models import ConvBlock, ConvWithBatchNorm\n",
    "import numpy as np\n",
    "import tensorflow as tf"
   ]
  },
  {
   "cell_type": "code",
   "execution_count": null,
   "id": "514d4cf8",
   "metadata": {},
   "outputs": [],
   "source": [
    "conv_block = ConvBlock((256, 512), 4)"
   ]
  },
  {
   "cell_type": "code",
   "execution_count": null,
   "id": "8e6d815f",
   "metadata": {},
   "outputs": [],
   "source": [
    "conv_block.layers"
   ]
  },
  {
   "cell_type": "markdown",
   "id": "43669c59",
   "metadata": {},
   "source": []
  }
 ],
 "metadata": {
  "kernelspec": {
   "display_name": "Python 3",
   "language": "python",
   "name": "python3"
  },
  "language_info": {
   "codemirror_mode": {
    "name": "ipython",
    "version": 3
   },
   "file_extension": ".py",
   "mimetype": "text/x-python",
   "name": "python",
   "nbconvert_exporter": "python",
   "pygments_lexer": "ipython3",
   "version": "3.8.8"
  }
 },
 "nbformat": 4,
 "nbformat_minor": 5
}
