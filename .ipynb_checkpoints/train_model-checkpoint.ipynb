{
 "cells": [
  {
   "cell_type": "markdown",
   "metadata": {
    "id": "sWKp-Dl11fRh"
   },
   "source": [
    "# **Import libs and define constant**"
   ]
  },
  {
   "cell_type": "code",
   "execution_count": null,
   "metadata": {
    "id": "cBEbG-jlr94i"
   },
   "outputs": [],
   "source": [
    "import dataset\n",
    "from models import YoloV1\n",
    "import math\n",
    "from sklearn.model_selection import train_test_split\n",
    "import tensorflow as tf\n",
    "from loss import YoloLoss\n",
    "import os"
   ]
  },
  {
   "cell_type": "code",
   "execution_count": null,
   "metadata": {
    "id": "ORktVkJouCw-"
   },
   "outputs": [],
   "source": [
    "input_shape = (448, 448, 3)\n",
    "grid_size = 7\n",
    "num_boxes = 2\n",
    "num_classes = 3\n",
    "num_epochs = 500\n",
    "batch_size = 16\n",
    "seed = None\n",
    "label_names = ['apple', 'banana', 'orange']"
   ]
  },
  {
   "cell_type": "code",
   "execution_count": null,
   "metadata": {
    "id": "KgD8KV8Eth_F"
   },
   "outputs": [],
   "source": [
    "!unzip drive/MyDrive/fruits_dataset.zip"
   ]
  },
  {
   "cell_type": "markdown",
   "metadata": {
    "id": "QN8exObj1cMG"
   },
   "source": [
    "# **Prepare data**"
   ]
  },
  {
   "cell_type": "code",
   "execution_count": null,
   "metadata": {
    "id": "s-5i1G32tr64"
   },
   "outputs": [],
   "source": [
    "train_dir = './fruits_dataset/train'\n",
    "train_df = dataset.get_dataframe(train_dir)"
   ]
  },
  {
   "cell_type": "code",
   "execution_count": null,
   "metadata": {
    "id": "qmgYguiGt7a_"
   },
   "outputs": [],
   "source": [
    "#train_df, val_df = train_test_split(train_df, test_size=0.2, random_state=seed)"
   ]
  },
  {
   "cell_type": "code",
   "execution_count": null,
   "metadata": {
    "colab": {
     "base_uri": "https://localhost:8080/",
     "height": 142
    },
    "id": "t2LBC4CTuJT1",
    "outputId": "9b3daee0-661d-485c-995f-434bfa0c00dc"
   },
   "outputs": [
    {
     "name": "stderr",
     "output_type": "stream",
     "text": [
      "23it [00:00, 78.54it/s]/usr/local/lib/python3.7/dist-packages/PIL/Image.py:960: UserWarning: Palette images with Transparency expressed in bytes should be converted to RGBA images\n",
      "  \"Palette images with Transparency expressed in bytes should be \"\n",
      "240it [00:03, 61.37it/s]\n"
     ]
    },
    {
     "data": {
      "application/vnd.google.colaboratory.intrinsic+json": {
       "type": "string"
      },
      "text/plain": [
       "'\\nval_dataset = dataset.load_dataset_from_df(val_df, batch_size=batch_size,\\n                                           num_epochs=num_epochs, shuffle=False,\\n                                           input_shape=input_shape, grid_size=grid_size,\\n                                           augment=False, seed=seed)\\n'"
      ]
     },
     "execution_count": 6,
     "metadata": {},
     "output_type": "execute_result"
    }
   ],
   "source": [
    "train_dataset = dataset.load_dataset_from_df(train_df, batch_size=batch_size, \n",
    "                                             num_epochs=num_epochs, shuffle=True,\n",
    "                                             input_shape=input_shape, grid_size=grid_size,\n",
    "                                             augment=True, seed=seed)\n",
    "\"\"\"\n",
    "val_dataset = dataset.load_dataset_from_df(val_df, batch_size=batch_size,\n",
    "                                           num_epochs=num_epochs, shuffle=False,\n",
    "                                           input_shape=input_shape, grid_size=grid_size,\n",
    "                                           augment=False, seed=seed)\n",
    "\"\"\""
   ]
  },
  {
   "cell_type": "markdown",
   "metadata": {
    "id": "Q6s56GSa1mVW"
   },
   "source": [
    "# **Instantiate model and train**"
   ]
  },
  {
   "cell_type": "code",
   "execution_count": null,
   "metadata": {
    "id": "KajAhiArunBn"
   },
   "outputs": [],
   "source": [
    "train_steps_per_epoch = math.ceil(len(train_df) / batch_size)\n",
    "#val_steps_per_epoch = math.ceil(len(val_df) / batch_size)"
   ]
  },
  {
   "cell_type": "code",
   "execution_count": null,
   "metadata": {
    "id": "R75xP6j1vAKL"
   },
   "outputs": [],
   "source": [
    "yolov1 = YoloV1(input_shape=input_shape, num_classes=num_classes)\n",
    "yolov1.compile(loss=YoloLoss(), optimizer='adam')\n",
    "#yolov1.build(input_shape=(None, *input_shape))\n",
    "yolov1.load_weights('drive/MyDrive/models/yolo_best_weights.hdf5')"
   ]
  },
  {
   "cell_type": "code",
   "execution_count": null,
   "metadata": {
    "id": "cf9U6yrcvFT2"
   },
   "outputs": [],
   "source": [
    "if not os.path.exists('weights'):\n",
    "  os.mkdir('weights')\n",
    "\n",
    "\n",
    "checkpoint_path = 'weights/yolo_best_weights.hdf5'\n",
    "\n",
    "\n",
    "checkpoint = tf.keras.callbacks.ModelCheckpoint(filepath=checkpoint_path,\n",
    "                                                save_weights_only=True,\n",
    "                                                verbose=1,\n",
    "                                                save_best_only=True,\n",
    "                                                monitor='loss')\n",
    "\n",
    "early_stop = tf.keras.callbacks.EarlyStopping(monitor='loss', patience=300,\n",
    "                                              restore_best_weights=True)\n",
    "\n",
    "hist = yolov1.fit(train_dataset, epochs=num_epochs, verbose=2,\n",
    "                  steps_per_epoch=train_steps_per_epoch,\n",
    "                  callbacks=[checkpoint])"
   ]
  },
  {
   "cell_type": "markdown",
   "metadata": {
    "id": "Z3DwuxLo1sPm"
   },
   "source": [
    "# **Evaluate**"
   ]
  },
  {
   "cell_type": "code",
   "execution_count": null,
   "metadata": {
    "colab": {
     "base_uri": "https://localhost:8080/",
     "height": 265
    },
    "id": "Vctc6tsgz9mm",
    "outputId": "6835bb6a-a76a-4bf4-8d9d-b1685d8ff43f"
   },
   "outputs": [
    {
     "data": {
      "image/png": "[encoded data removed]",
      "text/plain": [
       "<Figure size 432x288 with 1 Axes>"
      ]
     },
     "metadata": {
      "needs_background": "light"
     },
     "output_type": "display_data"
    }
   ],
   "source": [
    "import matplotlib.pyplot as plt\n",
    "import pandas as pd\n",
    "\n",
    "yolo_hist_df = pd.DataFrame(hist.history)\n",
    "yolo_hist_df.loc[:, ['loss']].plot()\n",
    "plt.show()"
   ]
  },
  {
   "cell_type": "code",
   "execution_count": null,
   "metadata": {
    "id": "hJRYS6Ox5Rxv"
   },
   "outputs": [],
   "source": [
    "yolov1.load_weights('weights/yolo_best_weights.hdf5')"
   ]
  },
  {
   "cell_type": "code",
   "execution_count": null,
   "metadata": {
    "id": "Xwv5NfiDqzqG"
   },
   "outputs": [],
   "source": [
    "model = YoloV1(input_shape=input_shape, num_classes=num_classes)\n",
    "first_batch = next(iter(train_dataset))\n",
    "batch_input = first_batch[0]\n",
    "batch_target = first_batch[1]"
   ]
  },
  {
   "cell_type": "code",
   "execution_count": null,
   "metadata": {
    "colab": {
     "base_uri": "https://localhost:8080/"
    },
    "id": "w5xg3ntcrADB",
    "outputId": "0cc931ae-c1fc-41d6-8148-d81474f5a9ee"
   },
   "outputs": [
    {
     "data": {
      "text/plain": [
       "1.1400656700134277"
      ]
     },
     "execution_count": 13,
     "metadata": {},
     "output_type": "execute_result"
    }
   ],
   "source": [
    "yolo_hist_df.loss.min()"
   ]
  },
  {
   "cell_type": "code",
   "execution_count": null,
   "metadata": {
    "id": "tCuIk96oXksl"
   },
   "outputs": [],
   "source": []
  }
 ],
 "metadata": {
  "accelerator": "GPU",
  "colab": {
   "name": "train_model",
   "provenance": []
  },
  "kernelspec": {
   "display_name": "Python 3",
   "language": "python",
   "name": "python3"
  },
  "language_info": {
   "codemirror_mode": {
    "name": "ipython",
    "version": 3
   },
   "file_extension": ".py",
   "mimetype": "text/x-python",
   "name": "python",
   "nbconvert_exporter": "python",
   "pygments_lexer": "ipython3",
   "version": "3.8.8"
  }
 },
 "nbformat": 4,
 "nbformat_minor": 1
}
