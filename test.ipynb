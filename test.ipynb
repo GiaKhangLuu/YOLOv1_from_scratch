{
 "cells": [
  {
   "cell_type": "code",
   "execution_count": 1,
   "id": "cff433a6",
   "metadata": {},
   "outputs": [],
   "source": [
    "from models import BottleNeckBlock, ConvWithBatchNorm, YoloBackbone, YoloOutput, YoloV1\n",
    "from tensorflow.keras.models import Model, Sequential\n",
    "from tensorflow.keras.layers import InputLayer, Dense, Conv2D, GlobalAveragePooling2D, Reshape\n",
    "import numpy as np\n",
    "import tensorflow as tf"
   ]
  },
  {
   "cell_type": "code",
   "execution_count": 2,
   "id": "db938f97",
   "metadata": {},
   "outputs": [],
   "source": [
    "input_shape = (448, 448, 3)\n",
    "yolo = YoloV1(input_shape=input_shape)\n",
    "x = tf.random.normal((10, *input_shape))"
   ]
  },
  {
   "cell_type": "code",
   "execution_count": 3,
   "id": "89ab11a7",
   "metadata": {},
   "outputs": [],
   "source": [
    "y = yolo(x)\n",
    "y = Reshape((7, 7, 30))(y)"
   ]
  },
  {
   "cell_type": "code",
   "execution_count": 4,
   "id": "2e1569a4",
   "metadata": {},
   "outputs": [
    {
     "data": {
      "text/plain": [
       "TensorShape([10, 7, 7, 30])"
      ]
     },
     "execution_count": 4,
     "metadata": {},
     "output_type": "execute_result"
    }
   ],
   "source": [
    "y.shape"
   ]
  },
  {
   "cell_type": "code",
   "execution_count": 5,
   "id": "addec236",
   "metadata": {},
   "outputs": [
    {
     "name": "stdout",
     "output_type": "stream",
     "text": [
      "Model: \"YOLO_V1\"\n",
      "_________________________________________________________________\n",
      "Layer (type)                 Output Shape              Param #   \n",
      "=================================================================\n",
      "YOLO_Backbone (YoloBackbone) (None, 14, 14, 1024)      22456512  \n",
      "_________________________________________________________________\n",
      "YOLO_Output (YoloOutput)     (None, 1470)              249316798 \n",
      "=================================================================\n",
      "Total params: 271,773,310\n",
      "Trainable params: 271,746,686\n",
      "Non-trainable params: 26,624\n",
      "_________________________________________________________________\n"
     ]
    }
   ],
   "source": [
    "yolo.summary()"
   ]
  },
  {
   "cell_type": "code",
   "execution_count": null,
   "id": "8487e6d9",
   "metadata": {},
   "outputs": [],
   "source": []
  }
 ],
 "metadata": {
  "kernelspec": {
   "display_name": "Python 3",
   "language": "python",
   "name": "python3"
  },
  "language_info": {
   "codemirror_mode": {
    "name": "ipython",
    "version": 3
   },
   "file_extension": ".py",
   "mimetype": "text/x-python",
   "name": "python",
   "nbconvert_exporter": "python",
   "pygments_lexer": "ipython3",
   "version": "3.8.8"
  }
 },
 "nbformat": 4,
 "nbformat_minor": 5
}
