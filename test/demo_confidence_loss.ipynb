{
 "cells": [
  {
   "cell_type": "code",
   "execution_count": 1,
   "id": "4cb0a0ed",
   "metadata": {},
   "outputs": [],
   "source": [
    "import tensorflow as tf\n",
    "import numpy as np\n",
    "\n",
    "import sys\n",
    "sys.path.append('../')\n",
    "\n",
    "import dataset\n",
    "import models\n",
    "from utils import iou\n",
    "\n",
    "input_shape = (448, 448, 3)\n",
    "seed = 42"
   ]
  },
  {
   "cell_type": "code",
   "execution_count": 2,
   "id": "e98be1df",
   "metadata": {},
   "outputs": [
    {
     "name": "stderr",
     "output_type": "stream",
     "text": [
      "23it [00:00, 55.22it/s]/opt/anaconda3/lib/python3.8/site-packages/PIL/Image.py:962: UserWarning: Palette images with Transparency expressed in bytes should be converted to RGBA images\n",
      "  warnings.warn(\n",
      "240it [00:05, 47.39it/s]\n"
     ]
    }
   ],
   "source": [
    "train_df = dataset.get_dataframe('../fruits_dataset/train')\n",
    "train_dataset = dataset.load_dataset_from_df(train_df, num_epochs=10, seed=seed)"
   ]
  },
  {
   "cell_type": "code",
   "execution_count": 3,
   "id": "9dc031df",
   "metadata": {},
   "outputs": [],
   "source": [
    "first_batch = next(iter(train_dataset))\n",
    "batch_input = first_batch[0]\n",
    "batch_target = first_batch[1]"
   ]
  },
  {
   "cell_type": "code",
   "execution_count": 4,
   "id": "ee46a9e5",
   "metadata": {},
   "outputs": [
    {
     "name": "stdout",
     "output_type": "stream",
     "text": [
      "WARNING:tensorflow:From /opt/anaconda3/lib/python3.8/site-packages/tensorflow/python/ops/array_ops.py:5043: calling gather (from tensorflow.python.ops.array_ops) with validate_indices is deprecated and will be removed in a future version.\n",
      "Instructions for updating:\n",
      "The `validate_indices` argument has no effect. Indices are always validated on CPU and never validated on GPU.\n"
     ]
    }
   ],
   "source": [
    "yolo = models.YoloV1(input_shape=input_shape, num_classes=3)"
   ]
  },
  {
   "cell_type": "code",
   "execution_count": 5,
   "id": "cc2aedb5",
   "metadata": {},
   "outputs": [],
   "source": [
    "batch_output = yolo(batch_input, training=True)"
   ]
  },
  {
   "cell_type": "code",
   "execution_count": 6,
   "id": "f69f5321",
   "metadata": {},
   "outputs": [],
   "source": [
    "t_cellbox = batch_target[..., :4]\n",
    "t_obj = batch_target[..., 4]\n",
    "t_cls = batch_target[..., 5:]\n",
    "\n",
    "o_cellbox1 = batch_output[..., :4]\n",
    "o_obj1 = batch_output[..., 4]\n",
    "o_cellbox2 = batch_output[..., 5:9]\n",
    "o_obj2 = batch_output[..., 9]\n",
    "o_cls = batch_output[..., 10:]"
   ]
  },
  {
   "cell_type": "code",
   "execution_count": 7,
   "id": "c503bc00",
   "metadata": {},
   "outputs": [],
   "source": [
    "def convert_xy_offset_to_xy_center(cellboxes):\n",
    "    x_offset = cellboxes[..., 0]\n",
    "    y_offset = cellboxes[..., 1]\n",
    "    w = cellboxes[..., 2]\n",
    "    h = cellboxes[..., 3]\n",
    "    \n",
    "    num_w_cells = x_offset.shape[-1]\n",
    "    num_h_cells = x_offset.shape[-2]\n",
    "    \n",
    "    # w_cell_indices: [[0, 1, 2, ...], [0, 1, 2, ...], ...]\n",
    "    w_cell_indices = np.array(range(num_w_cells))\n",
    "    w_cell_indices = np.broadcast_to(w_cell_indices, x_offset.shape)\n",
    "    \n",
    "    # h_cell_indices: [[0, 0, 0, ...], [1, 1, 1, ...], ....]\n",
    "    h_cell_indices = np.array(range(num_h_cells))\n",
    "    h_cell_indices = np.repeat(h_cell_indices, 7, 0).reshape(x_offset.shape[-2:])\n",
    "    h_cell_indices = np.broadcast_to(h_cell_indices, x_offset.shape)\n",
    "    \n",
    "    x_center = (x_offset + w_cell_indices) / num_w_cells\n",
    "    y_center = (y_offset + h_cell_indices) / num_h_cells\n",
    "    \n",
    "    mask = tf.cast((x_offset > 0), tf.float32)\n",
    "    \n",
    "    x_center *= mask\n",
    "    y_center *= mask\n",
    "    \n",
    "    xy = tf.stack([x_center, y_center], axis=-1)\n",
    "    \n",
    "    w = tf.expand_dims(w, -1)\n",
    "    h = tf.expand_dims(h, -1)\n",
    "    \n",
    "    bboxes = tf.concat([xy, w, h], axis=-1)\n",
    "    \n",
    "    return bboxes\n",
    "\n",
    "def convert_to_corner_bbox(cellboxes):\n",
    "    bboxes = convert_xy_offset_to_xy_center(cellboxes)\n",
    "    x, y, w, h = bboxes[..., 0], bboxes[..., 1], bboxes[..., 2], bboxes[..., 3]\n",
    "    \n",
    "    x_min = x - (w / 2)\n",
    "    y_min = y - (h / 2)\n",
    "    x_max = x + (w / 2)\n",
    "    y_max = y + (h / 2)\n",
    "    \n",
    "    corner_bboxes = tf.stack([x_min, y_min, x_max, y_max], axis=-1)\n",
    "        \n",
    "    return corner_bboxes"
   ]
  },
  {
   "cell_type": "code",
   "execution_count": 8,
   "id": "6e907c02",
   "metadata": {},
   "outputs": [],
   "source": [
    "t_corner_bbox = convert_to_corner_bbox(t_cellbox)\n",
    "o_corner_bbox1 = convert_to_corner_bbox(o_cellbox1)\n",
    "o_corner_bbox2 = convert_to_corner_bbox(o_cellbox2)"
   ]
  },
  {
   "cell_type": "code",
   "execution_count": 9,
   "id": "61322b24",
   "metadata": {},
   "outputs": [],
   "source": [
    "iou_box1 = iou(o_corner_bbox1, t_corner_bbox)\n",
    "iou_box2 = iou(o_corner_bbox2, t_corner_bbox)"
   ]
  },
  {
   "cell_type": "code",
   "execution_count": 10,
   "id": "e56dfb2c",
   "metadata": {},
   "outputs": [],
   "source": [
    "ious = tf.stack([iou_box1, iou_box2], axis=-1)"
   ]
  },
  {
   "cell_type": "code",
   "execution_count": 11,
   "id": "0debe9cd",
   "metadata": {},
   "outputs": [],
   "source": [
    "best_box = tf.math.argmax(ious, axis=-1)\n",
    "best_box = tf.cast(best_box, tf.float32)"
   ]
  },
  {
   "cell_type": "code",
   "execution_count": null,
   "id": "3625d7f1",
   "metadata": {},
   "outputs": [],
   "source": []
  },
  {
   "cell_type": "code",
   "execution_count": null,
   "id": "d5d04901",
   "metadata": {},
   "outputs": [],
   "source": []
  },
  {
   "cell_type": "code",
   "execution_count": null,
   "id": "0277aa05",
   "metadata": {},
   "outputs": [],
   "source": []
  },
  {
   "cell_type": "code",
   "execution_count": null,
   "id": "af1748ef",
   "metadata": {},
   "outputs": [],
   "source": []
  },
  {
   "cell_type": "markdown",
   "id": "79194537",
   "metadata": {},
   "source": [
    "# **Demo confidence loss**"
   ]
  },
  {
   "cell_type": "markdown",
   "id": "e71c0351",
   "metadata": {},
   "source": [
    "## **Obj loss**"
   ]
  },
  {
   "cell_type": "code",
   "execution_count": 12,
   "id": "d124bccf",
   "metadata": {},
   "outputs": [],
   "source": [
    "predicted_obj1 = o_obj1 * t_obj * (1 - best_box)\n",
    "predicted_obj2 = o_obj2 * t_obj * best_box "
   ]
  },
  {
   "cell_type": "code",
   "execution_count": 13,
   "id": "7dbbd482",
   "metadata": {},
   "outputs": [],
   "source": [
    "predicted_obj = predicted_obj1 + predicted_obj2"
   ]
  },
  {
   "cell_type": "code",
   "execution_count": 14,
   "id": "7ac9d76c",
   "metadata": {},
   "outputs": [],
   "source": [
    "sqr_err = tf.square(t_obj - predicted_obj)"
   ]
  },
  {
   "cell_type": "code",
   "execution_count": 15,
   "id": "b3198e2f",
   "metadata": {},
   "outputs": [],
   "source": [
    "single_loss = tf.reduce_sum(sqr_err, [1, 2])"
   ]
  },
  {
   "cell_type": "code",
   "execution_count": 16,
   "id": "660b57cd",
   "metadata": {},
   "outputs": [
    {
     "data": {
      "text/plain": [
       "<tf.Tensor: shape=(), dtype=float32, numpy=5.0211525>"
      ]
     },
     "execution_count": 16,
     "metadata": {},
     "output_type": "execute_result"
    }
   ],
   "source": [
    "batch_loss = tf.reduce_mean(single_loss)\n",
    "batch_loss"
   ]
  },
  {
   "cell_type": "code",
   "execution_count": 17,
   "id": "4643355d",
   "metadata": {},
   "outputs": [
    {
     "data": {
      "text/plain": [
       "<tf.Tensor: shape=(), dtype=float32, numpy=1.4291753>"
      ]
     },
     "execution_count": 17,
     "metadata": {},
     "output_type": "execute_result"
    }
   ],
   "source": [
    "single_loss[0]"
   ]
  },
  {
   "cell_type": "code",
   "execution_count": null,
   "id": "cba19e9d",
   "metadata": {},
   "outputs": [],
   "source": []
  },
  {
   "cell_type": "code",
   "execution_count": null,
   "id": "74268200",
   "metadata": {},
   "outputs": [],
   "source": []
  },
  {
   "cell_type": "markdown",
   "id": "29f86fce",
   "metadata": {},
   "source": [
    "## **No obj loss**"
   ]
  },
  {
   "cell_type": "code",
   "execution_count": 18,
   "id": "9dfad62b",
   "metadata": {},
   "outputs": [],
   "source": [
    "t_noobj = 1 - t_obj\n",
    "noobj_weight = 0.5"
   ]
  },
  {
   "cell_type": "code",
   "execution_count": 19,
   "id": "9405b755",
   "metadata": {},
   "outputs": [],
   "source": [
    "predicted_noobj1 = o_obj1 * t_noobj\n",
    "predicted_noobj2 = o_obj2 * t_noobj"
   ]
  },
  {
   "cell_type": "code",
   "execution_count": 20,
   "id": "2e360955",
   "metadata": {},
   "outputs": [],
   "source": [
    "sqr_err_noobj1 = tf.square((t_obj * t_noobj) - predicted_noobj1)\n",
    "sqr_err_noobj2 = tf.square((t_obj * t_noobj) - predicted_noobj2)"
   ]
  },
  {
   "cell_type": "code",
   "execution_count": 21,
   "id": "37a56e5e",
   "metadata": {},
   "outputs": [],
   "source": [
    "sqr_err_noobj = tf.reduce_sum(sqr_err_noobj1 + sqr_err_noobj2, [1, 2])"
   ]
  },
  {
   "cell_type": "code",
   "execution_count": 22,
   "id": "917478bf",
   "metadata": {},
   "outputs": [],
   "source": [
    "batch_loss = noobj_weight * tf.reduce_mean(sqr_err_noobj)"
   ]
  },
  {
   "cell_type": "code",
   "execution_count": 23,
   "id": "6e82e06c",
   "metadata": {},
   "outputs": [
    {
     "data": {
      "text/plain": [
       "<tf.Tensor: shape=(), dtype=float32, numpy=116.471176>"
      ]
     },
     "execution_count": 23,
     "metadata": {},
     "output_type": "execute_result"
    }
   ],
   "source": [
    "batch_loss"
   ]
  },
  {
   "cell_type": "code",
   "execution_count": 24,
   "id": "fc0191e9",
   "metadata": {},
   "outputs": [
    {
     "data": {
      "text/plain": [
       "<tf.Tensor: shape=(), dtype=float32, numpy=214.69095>"
      ]
     },
     "execution_count": 24,
     "metadata": {},
     "output_type": "execute_result"
    }
   ],
   "source": [
    "sqr_err_noobj[0]"
   ]
  },
  {
   "cell_type": "code",
   "execution_count": null,
   "id": "c3128acf",
   "metadata": {},
   "outputs": [],
   "source": []
  },
  {
   "cell_type": "code",
   "execution_count": null,
   "id": "fc40154e",
   "metadata": {},
   "outputs": [],
   "source": []
  },
  {
   "cell_type": "code",
   "execution_count": null,
   "id": "9f503902",
   "metadata": {},
   "outputs": [],
   "source": []
  },
  {
   "cell_type": "code",
   "execution_count": null,
   "id": "7d733d33",
   "metadata": {},
   "outputs": [],
   "source": []
  },
  {
   "cell_type": "markdown",
   "id": "19fb2041",
   "metadata": {},
   "source": [
    "## **Combine obj & no-obj loss**"
   ]
  },
  {
   "cell_type": "code",
   "execution_count": 25,
   "id": "dd6abb9a",
   "metadata": {},
   "outputs": [
    {
     "name": "stderr",
     "output_type": "stream",
     "text": [
      "240it [00:04, 48.45it/s]\n"
     ]
    }
   ],
   "source": [
    "train_df = dataset.get_dataframe('../fruits_dataset/train')\n",
    "train_dataset = dataset.load_dataset_from_df(train_df, num_epochs=1, batch_size=1)"
   ]
  },
  {
   "cell_type": "code",
   "execution_count": 26,
   "id": "66ade22c",
   "metadata": {},
   "outputs": [],
   "source": [
    "first_batch = next(iter(train_dataset))\n",
    "batch_input = first_batch[0]\n",
    "batch_target = first_batch[1]"
   ]
  },
  {
   "cell_type": "code",
   "execution_count": 27,
   "id": "be854f54",
   "metadata": {},
   "outputs": [],
   "source": [
    "yolo = models.YoloV1(input_shape=input_shape, num_classes=3)"
   ]
  },
  {
   "cell_type": "code",
   "execution_count": 28,
   "id": "4aa51055",
   "metadata": {},
   "outputs": [],
   "source": [
    "with tf.GradientTape() as tape:\n",
    "    batch_output = yolo(batch_input, training=True)\n",
    "    noobj_weight = 0.5\n",
    "    \n",
    "    # Get xywh, obj, class\n",
    "    t_cellbox = batch_target[..., :4]\n",
    "    t_obj = batch_target[..., 4]\n",
    "    t_cls = batch_target[..., 5:]\n",
    "    \n",
    "    o_cellbox1 = batch_output[..., :4]\n",
    "    o_obj1 = batch_output[..., 4]\n",
    "    o_cellbox2 = batch_output[..., 5:9]\n",
    "    o_obj2 = batch_output[..., 9]\n",
    "    o_cls = batch_output[..., 10:]\n",
    "    \n",
    "    # Get the highest iou\n",
    "    t_corner_bbox = convert_to_corner_bbox(t_cellbox)\n",
    "    o_corner_bbox1 = convert_to_corner_bbox(o_cellbox1)\n",
    "    o_corner_bbox2 = convert_to_corner_bbox(o_cellbox2)\n",
    "    \n",
    "    iou_box1 = iou(o_corner_bbox1, t_corner_bbox)\n",
    "    iou_box2 = iou(o_corner_bbox2, t_corner_bbox)\n",
    "    ious = tf.stack([iou_box1, iou_box2], axis=-1)\n",
    "    best_box = tf.math.argmax(ious, axis=-1)\n",
    "    best_box = tf.cast(best_box, tf.float32)\n",
    "    \n",
    "    # Compute no obj loss\n",
    "    noobj_mask = 1 - t_obj\n",
    "    o_noobj1, o_noobj2 = o_obj1 * noobj_mask, o_obj2 * noobj_mask\n",
    "    sqr_err_noobj1 = tf.square((t_obj * noobj_mask) - o_noobj1)\n",
    "    sqr_err_noobj2 = tf.square((t_obj * noobj_mask) - o_noobj2)\n",
    "    single_sse_noobj = tf.reduce_sum(sqr_err_noobj1 + sqr_err_noobj2, [1, 2])\n",
    "    noobj_loss = noobj_weight * tf.reduce_mean(single_sse_noobj)\n",
    "    \n",
    "    # Compute obj loss\n",
    "    predicted_obj1 = o_obj1 * t_obj * (1 - best_box)\n",
    "    predicted_obj2 = o_obj2 * t_obj * best_box \n",
    "    predicted_obj = predicted_obj1 + predicted_obj2\n",
    "    sqr_err_obj = tf.square(t_obj - predicted_obj)\n",
    "    single_sse_obj = tf.reduce_sum(sqr_err_obj, [1, 2])\n",
    "    obj_loss = tf.reduce_mean(single_sse_obj)\n",
    "    \n",
    "    loss =  obj_loss + (noobj_weight * noobj_loss)\n",
    "    \n",
    "grad = tape.gradient(loss, yolo.trainable_variables)"
   ]
  },
  {
   "cell_type": "code",
   "execution_count": 29,
   "id": "4a869964",
   "metadata": {},
   "outputs": [
    {
     "data": {
      "text/plain": [
       "<tf.Tensor: shape=(), dtype=bool, numpy=True>"
      ]
     },
     "execution_count": 29,
     "metadata": {},
     "output_type": "execute_result"
    }
   ],
   "source": [
    "tf.reduce_sum(tf.cast(grad[-1] != 0, tf.int32)) == 97"
   ]
  },
  {
   "cell_type": "code",
   "execution_count": 34,
   "id": "b1519c6b",
   "metadata": {},
   "outputs": [
    {
     "data": {
      "text/plain": [
       "<tf.Tensor: shape=(), dtype=float64, numpy=2090.0>"
      ]
     },
     "execution_count": 34,
     "metadata": {},
     "output_type": "execute_result"
    }
   ],
   "source": [
    "tf.reduce_sum(tf.cast(grad[-2] != 0, tf.int32)) / 97"
   ]
  },
  {
   "cell_type": "code",
   "execution_count": 31,
   "id": "178d3e46",
   "metadata": {},
   "outputs": [
    {
     "data": {
      "text/plain": [
       "<tf.Tensor: shape=(), dtype=float32, numpy=48.815926>"
      ]
     },
     "execution_count": 31,
     "metadata": {},
     "output_type": "execute_result"
    }
   ],
   "source": [
    "loss"
   ]
  },
  {
   "cell_type": "code",
   "execution_count": 32,
   "id": "d474a55e",
   "metadata": {},
   "outputs": [
    {
     "data": {
      "text/plain": [
       "<tf.Tensor: shape=(), dtype=float32, numpy=108.77465>"
      ]
     },
     "execution_count": 32,
     "metadata": {},
     "output_type": "execute_result"
    }
   ],
   "source": [
    "single_loss[0] + (noobj_weight * sqr_err_noobj[0])"
   ]
  },
  {
   "cell_type": "code",
   "execution_count": null,
   "id": "295b3b2c",
   "metadata": {},
   "outputs": [],
   "source": []
  },
  {
   "cell_type": "code",
   "execution_count": 45,
   "id": "b4a75be3",
   "metadata": {},
   "outputs": [
    {
     "data": {
      "text/plain": [
       "<tf.Tensor: shape=(1, 7, 7), dtype=float32, numpy=\n",
       "array([[[1.0665561e+00, 5.2230082e-02, 4.0848107e+00, 7.8818709e-02,\n",
       "         7.1577220e+00, 1.0765925e-01, 9.2036295e+00],\n",
       "        [3.0819429e-02, 1.1454989e+00, 3.6553915e+00, 3.2560072e+00,\n",
       "         1.5911919e+00, 1.1613204e-03, 3.7922988e+00],\n",
       "        [3.3286065e-02, 6.3593704e-01, 7.4153000e-01, 2.5554390e+00,\n",
       "         2.4054742e+00, 3.6368861e+00, 1.0608184e+00],\n",
       "        [3.1570528e+00, 3.3589937e-02, 5.3453803e-01, 0.0000000e+00,\n",
       "         2.4120870e+00, 2.0498619e+00, 3.0602882e+00],\n",
       "        [5.2292359e-01, 2.7425954e+00, 1.7008550e+00, 5.0593589e-02,\n",
       "         1.6772571e-01, 2.1912716e-02, 2.9453502e+00],\n",
       "        [8.7318286e-02, 1.1806891e+00, 5.2780499e+00, 1.8701401e-02,\n",
       "         1.4212713e-02, 3.3317404e+00, 5.9079771e+00],\n",
       "        [4.7128768e+00, 5.6554375e+00, 7.2541757e+00, 4.9465972e-01,\n",
       "         4.2607225e-02, 7.5958896e-01, 1.5972475e+00]]], dtype=float32)>"
      ]
     },
     "execution_count": 45,
     "metadata": {},
     "output_type": "execute_result"
    }
   ],
   "source": [
    "sqr_err_noobj1"
   ]
  },
  {
   "cell_type": "code",
   "execution_count": 46,
   "id": "cc88e1fd",
   "metadata": {},
   "outputs": [
    {
     "data": {
      "text/plain": [
       "<tf.Tensor: shape=(1, 7, 7), dtype=float32, numpy=\n",
       "array([[[1.6340977e+00, 9.7928280e-01, 4.7584634e+00, 8.2056367e-01,\n",
       "         8.9722151e-01, 1.4834647e+01, 1.2269311e+00],\n",
       "        [7.9363722e-01, 6.7697883e-01, 1.5157050e-02, 4.2515561e-02,\n",
       "         3.4512694e+00, 2.2909334e+00, 4.1265502e+00],\n",
       "        [8.6343545e-01, 9.4270295e-01, 9.8278545e-02, 1.0083281e+01,\n",
       "         2.4014802e-01, 3.3784911e-02, 2.3989564e-02],\n",
       "        [7.0858437e-01, 3.7596505e-02, 6.8288267e-02, 0.0000000e+00,\n",
       "         7.6473528e-01, 5.3322180e-03, 5.4734826e-01],\n",
       "        [7.4791573e-02, 3.3044143e+00, 2.9444575e-02, 6.5828619e+00,\n",
       "         4.5347050e-01, 3.6820149e+00, 1.6119602e-01],\n",
       "        [1.0114859e+00, 1.5895953e+00, 4.2613583e+00, 4.9938977e-02,\n",
       "         7.0686988e-04, 1.0006739e+00, 2.2473950e+00],\n",
       "        [2.7570477e-01, 5.4884019e+00, 1.4896633e-01, 5.7496971e-01,\n",
       "         6.5689909e-01, 7.5091702e-07, 6.0223069e+00]]], dtype=float32)>"
      ]
     },
     "execution_count": 46,
     "metadata": {},
     "output_type": "execute_result"
    }
   ],
   "source": [
    "sqr_err_noobj2"
   ]
  },
  {
   "cell_type": "code",
   "execution_count": 50,
   "id": "cd1ea6b0",
   "metadata": {},
   "outputs": [
    {
     "data": {
      "text/plain": [
       "<tf.Tensor: shape=(1, 7, 7), dtype=float32, numpy=\n",
       "array([[[ 0.,  0.,  0.,  0.,  0., -0., -0.],\n",
       "        [-0., -0., -0., -0.,  0.,  0., -0.],\n",
       "        [-0., -0., -0.,  0., -0.,  0., -0.],\n",
       "        [ 0.,  0., -0.,  0., -0., -0.,  0.],\n",
       "        [-0.,  0.,  0., -0., -0., -0.,  0.],\n",
       "        [ 0.,  0.,  0.,  0.,  0., -0., -0.],\n",
       "        [-0.,  0., -0., -0., -0.,  0.,  0.]]], dtype=float32)>"
      ]
     },
     "execution_count": 50,
     "metadata": {},
     "output_type": "execute_result"
    }
   ],
   "source": [
    "predicted_obj2"
   ]
  },
  {
   "cell_type": "code",
   "execution_count": null,
   "id": "46a22025",
   "metadata": {},
   "outputs": [],
   "source": []
  }
 ],
 "metadata": {
  "kernelspec": {
   "display_name": "Python 3",
   "language": "python",
   "name": "python3"
  },
  "language_info": {
   "codemirror_mode": {
    "name": "ipython",
    "version": 3
   },
   "file_extension": ".py",
   "mimetype": "text/x-python",
   "name": "python",
   "nbconvert_exporter": "python",
   "pygments_lexer": "ipython3",
   "version": "3.8.8"
  }
 },
 "nbformat": 4,
 "nbformat_minor": 5
}
