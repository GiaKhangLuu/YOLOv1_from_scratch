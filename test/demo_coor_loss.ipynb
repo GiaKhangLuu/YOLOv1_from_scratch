{
 "cells": [
  {
   "cell_type": "code",
   "execution_count": 1,
   "id": "02d15dc4",
   "metadata": {},
   "outputs": [],
   "source": [
    "import tensorflow as tf\n",
    "import numpy as np\n",
    "\n",
    "import sys\n",
    "sys.path.append('../')\n",
    "\n",
    "import dataset\n",
    "import models\n",
    "from utils import iou\n",
    "\n",
    "input_shape = (448, 448, 3)\n",
    "seed = 42"
   ]
  },
  {
   "cell_type": "code",
   "execution_count": 2,
   "id": "cee5bede",
   "metadata": {},
   "outputs": [
    {
     "name": "stderr",
     "output_type": "stream",
     "text": [
      "25it [00:00, 42.74it/s]/opt/anaconda3/lib/python3.8/site-packages/PIL/Image.py:962: UserWarning: Palette images with Transparency expressed in bytes should be converted to RGBA images\n",
      "  warnings.warn(\n",
      "240it [00:07, 33.84it/s]\n"
     ]
    }
   ],
   "source": [
    "train_df = dataset.get_dataframe('../fruits_dataset/train')\n",
    "train_dataset = dataset.load_dataset_from_df(train_df, num_epochs=10, seed=seed)"
   ]
  },
  {
   "cell_type": "code",
   "execution_count": 3,
   "id": "970d555e",
   "metadata": {},
   "outputs": [],
   "source": [
    "first_batch = next(iter(train_dataset))\n",
    "batch_input = first_batch[0]\n",
    "batch_target = first_batch[1]"
   ]
  },
  {
   "cell_type": "code",
   "execution_count": 4,
   "id": "122346ed",
   "metadata": {},
   "outputs": [
    {
     "name": "stdout",
     "output_type": "stream",
     "text": [
      "WARNING:tensorflow:From /opt/anaconda3/lib/python3.8/site-packages/tensorflow/python/ops/array_ops.py:5043: calling gather (from tensorflow.python.ops.array_ops) with validate_indices is deprecated and will be removed in a future version.\n",
      "Instructions for updating:\n",
      "The `validate_indices` argument has no effect. Indices are always validated on CPU and never validated on GPU.\n"
     ]
    }
   ],
   "source": [
    "yolo = models.YoloV1(input_shape=input_shape, num_classes=3)"
   ]
  },
  {
   "cell_type": "code",
   "execution_count": 5,
   "id": "d7a417fd",
   "metadata": {},
   "outputs": [],
   "source": [
    "batch_output = yolo(batch_input, training=True)"
   ]
  },
  {
   "cell_type": "code",
   "execution_count": 6,
   "id": "4fa6adb1",
   "metadata": {},
   "outputs": [],
   "source": [
    "t_box = batch_target[..., :4]\n",
    "t_obj = batch_target[..., 4]\n",
    "t_cls = batch_target[..., 5:]\n",
    "\n",
    "o_box1 = batch_output[..., :4]\n",
    "o_obj1 = batch_output[..., 4]\n",
    "o_box2 = batch_output[..., 5:9]\n",
    "o_obj2 = batch_output[..., 9]\n",
    "o_cls = batch_output[..., 10:]"
   ]
  },
  {
   "cell_type": "code",
   "execution_count": 7,
   "id": "bd588c0a",
   "metadata": {},
   "outputs": [],
   "source": [
    "def convert_xy_offset_to_xy_center(cellboxes):\n",
    "    x_offset = cellboxes[..., 0]\n",
    "    y_offset = cellboxes[..., 1]\n",
    "    w = cellboxes[..., 2]\n",
    "    h = cellboxes[..., 3]\n",
    "    \n",
    "    num_w_cells = x_offset.shape[-1]\n",
    "    num_h_cells = x_offset.shape[-2]\n",
    "    \n",
    "    # w_cell_indices: [[0, 1, 2, ...], [0, 1, 2, ...], ...]\n",
    "    w_cell_indices = np.array(range(num_w_cells))\n",
    "    w_cell_indices = np.broadcast_to(w_cell_indices, x_offset.shape)\n",
    "    \n",
    "    # h_cell_indices: [[0, 0, 0, ...], [1, 1, 1, ...], ....]\n",
    "    h_cell_indices = np.array(range(num_h_cells))\n",
    "    h_cell_indices = np.repeat(h_cell_indices, 7, 0).reshape(x_offset.shape[-2:])\n",
    "    h_cell_indices = np.broadcast_to(h_cell_indices, x_offset.shape)\n",
    "    \n",
    "    x_center = (x_offset + w_cell_indices) / num_w_cells\n",
    "    y_center = (y_offset + h_cell_indices) / num_h_cells\n",
    "    \n",
    "    mask = tf.cast((x_offset > 0), tf.float32)\n",
    "    \n",
    "    x_center *= mask\n",
    "    y_center *= mask\n",
    "    \n",
    "    xy = tf.stack([x_center, y_center], axis=-1)\n",
    "    \n",
    "    w = tf.expand_dims(w, -1)\n",
    "    h = tf.expand_dims(h, -1)\n",
    "    \n",
    "    bboxes = tf.concat([xy, w, h], axis=-1)\n",
    "    \n",
    "    return bboxes\n",
    "\n",
    "def convert_to_corner_bbox(cellboxes):\n",
    "    bboxes = convert_xy_offset_to_xy_center(cellboxes)\n",
    "    x, y, w, h = bboxes[..., 0], bboxes[..., 1], bboxes[..., 2], bboxes[..., 3]\n",
    "    \n",
    "    x_min = x - (w / 2)\n",
    "    y_min = y - (h / 2)\n",
    "    x_max = x + (w / 2)\n",
    "    y_max = y + (h / 2)\n",
    "    \n",
    "    corner_bboxes = tf.stack([x_min, y_min, x_max, y_max], axis=-1)\n",
    "        \n",
    "    return corner_bboxes"
   ]
  },
  {
   "cell_type": "code",
   "execution_count": 8,
   "id": "3d104378",
   "metadata": {},
   "outputs": [],
   "source": [
    "t_cellbox = batch_target[..., :4]\n",
    "t_obj = batch_target[..., 4]\n",
    "t_cls = batch_target[..., 5:]\n",
    "o_cellbox1 = batch_output[..., :4]\n",
    "o_obj1 = batch_output[..., 4]\n",
    "o_cellbox2 = batch_output[..., 5:9]\n",
    "o_obj2 = batch_output[..., 9]\n",
    "o_cls = batch_output[..., 10:]\n",
    "\n",
    "o_corner_bboxes1 = convert_to_corner_bbox(o_cellbox1)\n",
    "o_corner_bboxes2 = convert_to_corner_bbox(o_cellbox2)\n",
    "t_corner_bboxes = convert_to_corner_bbox(t_cellbox)"
   ]
  },
  {
   "cell_type": "code",
   "execution_count": 9,
   "id": "455b541a",
   "metadata": {
    "scrolled": true
   },
   "outputs": [],
   "source": [
    "iou_box1 = iou(o_corner_bboxes1, t_corner_bboxes)\n",
    "iou_box2 = iou(o_corner_bboxes2, t_corner_bboxes)"
   ]
  },
  {
   "cell_type": "code",
   "execution_count": 10,
   "id": "5a706c7a",
   "metadata": {
    "scrolled": true
   },
   "outputs": [],
   "source": [
    "iou_box1 = tf.expand_dims(iou_box1, -1)\n",
    "iou_box2 = tf.expand_dims(iou_box2, -1)"
   ]
  },
  {
   "cell_type": "code",
   "execution_count": 11,
   "id": "a046eb27",
   "metadata": {},
   "outputs": [],
   "source": [
    "iou_concat = tf.concat([iou_box1, iou_box2], axis=-1)"
   ]
  },
  {
   "cell_type": "code",
   "execution_count": 12,
   "id": "bd81eaa8",
   "metadata": {
    "scrolled": true
   },
   "outputs": [],
   "source": [
    "responsible_box = tf.math.argmax(iou_concat, axis=-1)\n",
    "responsible_box = tf.cast(responsible_box, tf.float32)"
   ]
  },
  {
   "cell_type": "code",
   "execution_count": null,
   "id": "d211ad48",
   "metadata": {},
   "outputs": [],
   "source": []
  },
  {
   "cell_type": "code",
   "execution_count": null,
   "id": "970d874b",
   "metadata": {},
   "outputs": [],
   "source": []
  },
  {
   "cell_type": "code",
   "execution_count": null,
   "id": "0d010997",
   "metadata": {
    "scrolled": true
   },
   "outputs": [],
   "source": []
  },
  {
   "cell_type": "code",
   "execution_count": null,
   "id": "a471c454",
   "metadata": {},
   "outputs": [],
   "source": []
  },
  {
   "cell_type": "code",
   "execution_count": null,
   "id": "e606825a",
   "metadata": {},
   "outputs": [],
   "source": []
  },
  {
   "cell_type": "code",
   "execution_count": null,
   "id": "6a26e1f7",
   "metadata": {},
   "outputs": [],
   "source": []
  },
  {
   "cell_type": "code",
   "execution_count": null,
   "id": "33b331ae",
   "metadata": {},
   "outputs": [],
   "source": []
  },
  {
   "cell_type": "markdown",
   "id": "a848587f",
   "metadata": {},
   "source": [
    "# **Demo class dist. loss**"
   ]
  },
  {
   "cell_type": "markdown",
   "id": "7d4697cf",
   "metadata": {},
   "source": [
    "## **xy loss**"
   ]
  },
  {
   "cell_type": "code",
   "execution_count": 13,
   "id": "8f405bae",
   "metadata": {},
   "outputs": [],
   "source": [
    "# Get xy, wh\n",
    "target_xy, target_wh = t_box[..., :2], t_box[..., 2:]\n",
    "\n",
    "box1_xy, box1_wh = o_box1[..., :2], o_box1[..., 2:]\n",
    "\n",
    "box2_xy, box2_wh = o_box2[..., :2], o_box2[..., 2:]"
   ]
  },
  {
   "cell_type": "code",
   "execution_count": 14,
   "id": "734d7dcb",
   "metadata": {
    "scrolled": true
   },
   "outputs": [],
   "source": [
    "# (x - x_hat)^2, (y - y_hat)^2\n",
    "sqr_err_1 = tf.square(target_xy - box1_xy)\n",
    "sqr_err_2 = tf.square(target_xy - box2_xy)"
   ]
  },
  {
   "cell_type": "code",
   "execution_count": 15,
   "id": "5fe28dca",
   "metadata": {
    "scrolled": true
   },
   "outputs": [],
   "source": [
    "# [(x - x_hat)^2 + (y - y_hat)^2]\n",
    "sum_xy_1 = tf.reduce_sum(sqr_err_1, -1)\n",
    "sum_xy_2 = tf.reduce_sum(sqr_err_2, -1)"
   ]
  },
  {
   "cell_type": "code",
   "execution_count": 16,
   "id": "34490b5d",
   "metadata": {},
   "outputs": [],
   "source": [
    "# 1obj_j * [(x - x_hat)^2 + (y - y_hat)^2]\n",
    "predictor_1 = sum_xy_1 * (1 - responsible_box)\n",
    "predictor_2 = sum_xy_2 * responsible_box"
   ]
  },
  {
   "cell_type": "code",
   "execution_count": 17,
   "id": "ff907b3f",
   "metadata": {
    "scrolled": true
   },
   "outputs": [],
   "source": [
    "# 1obj_ij * [(x - x_hat)^2 + (y - y_hat)^2]\n",
    "obj_predictor_1 = predictor_1 * t_obj\n",
    "obj_predictor_2 = predictor_2 * t_obj"
   ]
  },
  {
   "cell_type": "code",
   "execution_count": 18,
   "id": "c4847ca2",
   "metadata": {},
   "outputs": [],
   "source": [
    "xy_predictor = obj_predictor_1 + obj_predictor_2"
   ]
  },
  {
   "cell_type": "code",
   "execution_count": 19,
   "id": "4a74ab58",
   "metadata": {},
   "outputs": [],
   "source": [
    "single_xy_loss = tf.reduce_sum(xy_predictor, [1, 2])"
   ]
  },
  {
   "cell_type": "code",
   "execution_count": 20,
   "id": "aba700e7",
   "metadata": {},
   "outputs": [],
   "source": [
    "batch_xy_loss = tf.reduce_mean(single_xy_loss)"
   ]
  },
  {
   "cell_type": "code",
   "execution_count": 21,
   "id": "a5e81f1c",
   "metadata": {},
   "outputs": [
    {
     "data": {
      "text/plain": [
       "<tf.Tensor: shape=(), dtype=float32, numpy=66.85336>"
      ]
     },
     "execution_count": 21,
     "metadata": {},
     "output_type": "execute_result"
    }
   ],
   "source": [
    "coord_weight = 5\n",
    "batch_xy_loss *= coord_weight\n",
    "batch_xy_loss"
   ]
  },
  {
   "cell_type": "code",
   "execution_count": 22,
   "id": "7ca1ade2",
   "metadata": {},
   "outputs": [
    {
     "data": {
      "text/plain": [
       "<tf.Tensor: shape=(), dtype=float32, numpy=1.0434695>"
      ]
     },
     "execution_count": 22,
     "metadata": {},
     "output_type": "execute_result"
    }
   ],
   "source": [
    "single_xy_loss[0] "
   ]
  },
  {
   "cell_type": "code",
   "execution_count": null,
   "id": "4ab0b0b6",
   "metadata": {},
   "outputs": [],
   "source": []
  },
  {
   "cell_type": "code",
   "execution_count": null,
   "id": "15e133f3",
   "metadata": {},
   "outputs": [],
   "source": []
  },
  {
   "cell_type": "code",
   "execution_count": null,
   "id": "a0319f17",
   "metadata": {},
   "outputs": [],
   "source": []
  },
  {
   "cell_type": "code",
   "execution_count": null,
   "id": "e41118aa",
   "metadata": {},
   "outputs": [],
   "source": []
  },
  {
   "cell_type": "markdown",
   "id": "b93b7996",
   "metadata": {},
   "source": [
    "## **wh loss**"
   ]
  },
  {
   "cell_type": "code",
   "execution_count": 23,
   "id": "28fd58e3",
   "metadata": {
    "scrolled": true
   },
   "outputs": [],
   "source": [
    "# (sqrt(w) - sqrt(w_hat))^2 , (sqrt(h) - sqrt(h_hat))^2 \n",
    "sqrt_target_wh = tf.sqrt(target_wh)\n",
    "sqrt_box1_wh = tf.sqrt(tf.abs(box1_wh))\n",
    "sqrt_box2_wh = tf.sqrt(tf.abs(box2_wh))\n",
    "\n",
    "sqr_err_wh_1 = tf.square(sqrt_target_wh - sqrt_box1_wh)\n",
    "sqr_err_wh_2 = tf.square(sqrt_target_wh - sqrt_box2_wh)"
   ]
  },
  {
   "cell_type": "code",
   "execution_count": 24,
   "id": "1c35d6f5",
   "metadata": {
    "scrolled": true
   },
   "outputs": [],
   "source": [
    "# [(sqrt(w) - sqrt(w_hat))^2 + (sqrt(h) - sqrt(h_hat))^2]\n",
    "sum_wh_1 = tf.reduce_sum(sqr_err_wh_1, -1)\n",
    "sum_wh_2 = tf.reduce_sum(sqr_err_wh_2, -1)"
   ]
  },
  {
   "cell_type": "code",
   "execution_count": 25,
   "id": "04a954b7",
   "metadata": {
    "scrolled": true
   },
   "outputs": [],
   "source": [
    "# 1obj_j * [(sqrt(w) - sqrt(w_hat))^2 + (sqrt(h) - sqrt(h_hat))^2]\n",
    "predictor_wh_1 = sum_wh_1 * (1 - responsible_box)\n",
    "predictor_wh_2 = sum_wh_2 * responsible_box"
   ]
  },
  {
   "cell_type": "code",
   "execution_count": 26,
   "id": "47bb9e7d",
   "metadata": {},
   "outputs": [],
   "source": [
    "# 1obj_ij * [(sqrt(w) - sqrt(w_hat))^2 + (sqrt(h) - sqrt(h_hat))^2]\n",
    "obj_predictor_wh_1 = predictor_wh_1 * t_obj\n",
    "obj_predictor_wh_2 = predictor_wh_2 * t_obj"
   ]
  },
  {
   "cell_type": "code",
   "execution_count": 27,
   "id": "ea99a035",
   "metadata": {
    "scrolled": true
   },
   "outputs": [],
   "source": [
    "wh_predictor = obj_predictor_wh_1 + obj_predictor_wh_2"
   ]
  },
  {
   "cell_type": "code",
   "execution_count": 28,
   "id": "29749a7f",
   "metadata": {},
   "outputs": [],
   "source": [
    "single_wh_loss = tf.reduce_sum(wh_predictor, [1, 2])"
   ]
  },
  {
   "cell_type": "code",
   "execution_count": 29,
   "id": "4fd6858d",
   "metadata": {},
   "outputs": [],
   "source": [
    "batch_wh_loss = tf.reduce_mean(single_wh_loss)"
   ]
  },
  {
   "cell_type": "code",
   "execution_count": 30,
   "id": "b756bf69",
   "metadata": {},
   "outputs": [
    {
     "data": {
      "text/plain": [
       "<tf.Tensor: shape=(), dtype=float32, numpy=5.051384>"
      ]
     },
     "execution_count": 30,
     "metadata": {},
     "output_type": "execute_result"
    }
   ],
   "source": [
    "batch_wh_loss *= coord_weight\n",
    "batch_wh_loss"
   ]
  },
  {
   "cell_type": "code",
   "execution_count": 31,
   "id": "4899c98f",
   "metadata": {},
   "outputs": [
    {
     "data": {
      "text/plain": [
       "<tf.Tensor: shape=(), dtype=float32, numpy=0.29782522>"
      ]
     },
     "execution_count": 31,
     "metadata": {},
     "output_type": "execute_result"
    }
   ],
   "source": [
    "single_wh_loss[0] "
   ]
  },
  {
   "cell_type": "code",
   "execution_count": null,
   "id": "cb3a81fd",
   "metadata": {},
   "outputs": [],
   "source": []
  },
  {
   "cell_type": "code",
   "execution_count": null,
   "id": "e12a4846",
   "metadata": {},
   "outputs": [],
   "source": []
  },
  {
   "cell_type": "code",
   "execution_count": null,
   "id": "3afa4cd7",
   "metadata": {},
   "outputs": [],
   "source": []
  },
  {
   "cell_type": "code",
   "execution_count": null,
   "id": "6b9177ee",
   "metadata": {},
   "outputs": [],
   "source": []
  },
  {
   "cell_type": "code",
   "execution_count": null,
   "id": "cafc2a04",
   "metadata": {},
   "outputs": [],
   "source": []
  },
  {
   "cell_type": "code",
   "execution_count": null,
   "id": "753879e0",
   "metadata": {},
   "outputs": [],
   "source": []
  },
  {
   "cell_type": "markdown",
   "id": "5aa9dfa6",
   "metadata": {},
   "source": [
    "## **Combine xy wh**"
   ]
  },
  {
   "cell_type": "code",
   "execution_count": 32,
   "id": "b0b2678c",
   "metadata": {},
   "outputs": [
    {
     "name": "stderr",
     "output_type": "stream",
     "text": [
      "240it [00:06, 38.55it/s]\n"
     ]
    }
   ],
   "source": [
    "train_df = dataset.get_dataframe('../fruits_dataset/train')\n",
    "train_dataset = dataset.load_dataset_from_df(train_df, num_epochs=1, batch_size=1)"
   ]
  },
  {
   "cell_type": "code",
   "execution_count": 33,
   "id": "19502f01",
   "metadata": {},
   "outputs": [],
   "source": [
    "first_batch = next(iter(train_dataset))\n",
    "batch_input = first_batch[0]\n",
    "batch_target = first_batch[1]"
   ]
  },
  {
   "cell_type": "code",
   "execution_count": 34,
   "id": "8f590c8c",
   "metadata": {},
   "outputs": [],
   "source": [
    "yolo = models.YoloV1(input_shape=input_shape, num_classes=3)"
   ]
  },
  {
   "cell_type": "code",
   "execution_count": 35,
   "id": "5c699714",
   "metadata": {},
   "outputs": [],
   "source": [
    "with tf.GradientTape() as tape:\n",
    "    batch_output = yolo(batch_input, training=True)\n",
    "    coord_weight = 5\n",
    "    \n",
    "    # Get xywh, obj, class\n",
    "    t_cellbox = batch_target[..., :4]\n",
    "    t_obj = batch_target[..., 4]\n",
    "    t_cls = batch_target[..., 5:]\n",
    "    o_cellbox1 = batch_output[..., :4]\n",
    "    o_obj1 = batch_output[..., 4]\n",
    "    o_cellbox2 = batch_output[..., 5:9]\n",
    "    o_obj2 = batch_output[..., 9]\n",
    "    o_cls = batch_output[..., 10:]\n",
    "    \n",
    "    # Convert cellbox (xy_offset, w, h) to xy_min_max to compute iou\n",
    "    t_corner_bbox = convert_to_corner_bbox(t_cellbox)\n",
    "    o_corner_bbox1 = convert_to_corner_bbox(o_cellbox1)\n",
    "    o_corner_bbox2 = convert_to_corner_bbox(o_cellbox2)\n",
    "    \n",
    "    # Compute iou\n",
    "    iou_box1 = iou(o_corner_bbox1, t_corner_bbox)\n",
    "    iou_box2 = iou(o_corner_bbox2, t_corner_bbox)\n",
    "    \n",
    "    # Get the highest iou\n",
    "    iou_box1 = tf.expand_dims(iou_box1, -1)\n",
    "    iou_box2 = tf.expand_dims(iou_box2, -1)\n",
    "    iou_concat = tf.concat([iou_box1, iou_box2], axis=-1)\n",
    "    responsible_box = tf.cast(tf.math.argmax(iou_concat, axis=-1), \n",
    "                              tf.float32)\n",
    "    \n",
    "    # Get xy, wh\n",
    "    target_xy, target_wh = t_cellbox[..., :2], t_cellbox[..., 2:]\n",
    "    box1_xy, box1_wh = o_cellbox1[..., :2], o_cellbox1[..., 2:]\n",
    "    box2_xy, box2_wh = o_cellbox2[..., :2], o_cellbox2[..., 2:]\n",
    "    \n",
    "    # Compute xy loss\n",
    "    sse_xy_1 = tf.reduce_sum(tf.square(target_xy - box1_xy), -1)\n",
    "    sse_xy_2 = tf.reduce_sum(tf.square(target_xy - box2_xy), -1)\n",
    "    \n",
    "    xy_predictor_1 = sse_xy_1 * (1 - responsible_box) * t_obj\n",
    "    xy_predictor_2 = sse_xy_2 * responsible_box * t_obj\n",
    "    \n",
    "    xy_predictor = xy_predictor_1 + xy_predictor_2\n",
    "    xy_loss = tf.reduce_mean(tf.reduce_sum(xy_predictor, [1, 2]))\n",
    "    \n",
    "    # Compute wh loss\n",
    "    target_wh = tf.sqrt(target_wh)\n",
    "    box1_wh, box2_wh = tf.sqrt(tf.abs(box1_wh)), tf.sqrt(tf.abs(box2_wh))\n",
    "    \n",
    "    sse_wh_1 = tf.reduce_sum(tf.square(target_wh - box1_wh), -1)\n",
    "    sse_wh_2 = tf.reduce_sum(tf.square(target_wh - box2_wh), -1)\n",
    "    \n",
    "    wh_predictor_1 = sse_wh_1 * (1 - responsible_box) * t_obj\n",
    "    wh_predictor_2 = sse_wh_2 * responsible_box * t_obj\n",
    "    \n",
    "    wh_predictor = wh_predictor_1 + wh_predictor_2\n",
    "    wh_loss = tf.reduce_mean(tf.reduce_sum(wh_predictor, [1, 2]))\n",
    "    \n",
    "    loss = coord_weight * (wh_loss + xy_loss)\n",
    "\n",
    "grad = tape.gradient(loss, yolo.trainable_variables)"
   ]
  },
  {
   "cell_type": "code",
   "execution_count": 49,
   "id": "54826895",
   "metadata": {},
   "outputs": [
    {
     "data": {
      "text/plain": [
       "<tf.Tensor: shape=(), dtype=float64, numpy=2048.0>"
      ]
     },
     "execution_count": 49,
     "metadata": {},
     "output_type": "execute_result"
    }
   ],
   "source": [
    "tf.reduce_sum(tf.cast(grad[-2] != 0, tf.int32)) / 4"
   ]
  },
  {
   "cell_type": "code",
   "execution_count": 37,
   "id": "726e2682",
   "metadata": {},
   "outputs": [
    {
     "data": {
      "text/plain": [
       "<tf.Tensor: shape=(), dtype=int32, numpy=4>"
      ]
     },
     "execution_count": 37,
     "metadata": {},
     "output_type": "execute_result"
    }
   ],
   "source": [
    "tf.reduce_sum(tf.cast(grad[-1] != 0, tf.int32))"
   ]
  },
  {
   "cell_type": "code",
   "execution_count": 65,
   "id": "12b390cb",
   "metadata": {},
   "outputs": [
    {
     "data": {
      "text/plain": [
       "<tf.Tensor: shape=(1, 7, 7), dtype=float32, numpy=\n",
       "array([[[0.       , 0.       , 0.       , 0.       , 0.       ,\n",
       "         0.       , 0.       ],\n",
       "        [0.       , 0.       , 0.       , 0.       , 0.       ,\n",
       "         0.       , 0.       ],\n",
       "        [0.       , 0.       , 0.       , 0.       , 0.       ,\n",
       "         0.       , 0.       ],\n",
       "        [0.       , 0.       , 0.       , 6.3431826, 0.       ,\n",
       "         0.       , 0.       ],\n",
       "        [0.       , 0.       , 0.       , 0.       , 0.       ,\n",
       "         0.       , 0.       ],\n",
       "        [0.       , 0.       , 0.       , 0.       , 0.       ,\n",
       "         0.       , 0.       ],\n",
       "        [0.       , 0.       , 0.       , 0.       , 0.       ,\n",
       "         0.       , 0.       ]]], dtype=float32)>"
      ]
     },
     "execution_count": 65,
     "metadata": {},
     "output_type": "execute_result"
    }
   ],
   "source": [
    "xy_predictor_1"
   ]
  },
  {
   "cell_type": "code",
   "execution_count": 57,
   "id": "faf506f1",
   "metadata": {},
   "outputs": [
    {
     "data": {
      "text/plain": [
       "<tf.Tensor: shape=(7, 7), dtype=float32, numpy=\n",
       "array([[0.        , 0.        , 0.        , 0.        , 0.        ,\n",
       "        0.        , 0.        ],\n",
       "       [0.        , 0.        , 0.        , 0.        , 0.        ,\n",
       "        0.        , 0.        ],\n",
       "       [0.        , 0.        , 0.        , 0.        , 0.        ,\n",
       "        0.        , 0.        ],\n",
       "       [0.        , 0.        , 0.        , 0.26016322, 0.        ,\n",
       "        0.        , 0.        ],\n",
       "       [0.        , 0.        , 0.        , 0.        , 0.        ,\n",
       "        0.        , 0.        ],\n",
       "       [0.        , 0.        , 0.        , 0.        , 0.        ,\n",
       "        0.        , 0.        ],\n",
       "       [0.        , 0.        , 0.        , 0.        , 0.        ,\n",
       "        0.        , 0.        ]], dtype=float32)>"
      ]
     },
     "execution_count": 57,
     "metadata": {},
     "output_type": "execute_result"
    }
   ],
   "source": [
    "wh_predictor[0]"
   ]
  },
  {
   "cell_type": "code",
   "execution_count": null,
   "id": "91c03495",
   "metadata": {},
   "outputs": [],
   "source": []
  },
  {
   "cell_type": "code",
   "execution_count": null,
   "id": "c4716f4f",
   "metadata": {},
   "outputs": [],
   "source": []
  }
 ],
 "metadata": {
  "kernelspec": {
   "display_name": "Python 3",
   "language": "python",
   "name": "python3"
  },
  "language_info": {
   "codemirror_mode": {
    "name": "ipython",
    "version": 3
   },
   "file_extension": ".py",
   "mimetype": "text/x-python",
   "name": "python",
   "nbconvert_exporter": "python",
   "pygments_lexer": "ipython3",
   "version": "3.8.8"
  }
 },
 "nbformat": 4,
 "nbformat_minor": 5
}
