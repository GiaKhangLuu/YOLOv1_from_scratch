{
 "cells": [
  {
   "cell_type": "code",
   "execution_count": 2,
   "id": "679eabc2",
   "metadata": {},
   "outputs": [
    {
     "ename": "SyntaxError",
     "evalue": "invalid syntax (<ipython-input-2-4577afbf8c65>, line 3)",
     "output_type": "error",
     "traceback": [
      "\u001b[0;36m  File \u001b[0;32m\"<ipython-input-2-4577afbf8c65>\"\u001b[0;36m, line \u001b[0;32m3\u001b[0m\n\u001b[0;31m    import ../dataset\u001b[0m\n\u001b[0m           ^\u001b[0m\n\u001b[0;31mSyntaxError\u001b[0m\u001b[0;31m:\u001b[0m invalid syntax\n"
     ]
    }
   ],
   "source": [
    "import tensorflow as tf\n",
    "import numpy as np\n",
    "from \n",
    "import models\n",
    "from utils import iou\n",
    "from loss import YoloLoss\n",
    "\n",
    "input_shape = (448, 448, 3)\n",
    "seed = 42"
   ]
  },
  {
   "cell_type": "code",
   "execution_count": null,
   "id": "6a8501c9",
   "metadata": {},
   "outputs": [],
   "source": [
    "train_df = dataset.get_dataframe('./fruits_dataset/train')\n",
    "train_dataset = dataset.load_dataset_from_df(train_df, num_epochs=1, batch_size=1, seed=seed)"
   ]
  },
  {
   "cell_type": "code",
   "execution_count": null,
   "id": "ebb54266",
   "metadata": {},
   "outputs": [],
   "source": [
    "first_batch = next(iter(train_dataset))\n",
    "batch_input = first_batch[0]\n",
    "batch_target = first_batch[1]"
   ]
  },
  {
   "cell_type": "code",
   "execution_count": null,
   "id": "adeafa65",
   "metadata": {},
   "outputs": [],
   "source": [
    "yolo = models.YoloV1(input_shape=input_shape, num_classes=3)\n",
    "yolo_loss = YoloLoss()"
   ]
  },
  {
   "cell_type": "code",
   "execution_count": null,
   "id": "cf17a937",
   "metadata": {
    "scrolled": true
   },
   "outputs": [],
   "source": [
    "import os"
   ]
  },
  {
   "cell_type": "code",
   "execution_count": null,
   "id": "d6fa3e7b",
   "metadata": {},
   "outputs": [],
   "source": [
    "os.getcwd()"
   ]
  },
  {
   "cell_type": "code",
   "execution_count": null,
   "id": "e8bb772c",
   "metadata": {},
   "outputs": [],
   "source": []
  }
 ],
 "metadata": {
  "kernelspec": {
   "display_name": "Python 3",
   "language": "python",
   "name": "python3"
  },
  "language_info": {
   "codemirror_mode": {
    "name": "ipython",
    "version": 3
   },
   "file_extension": ".py",
   "mimetype": "text/x-python",
   "name": "python",
   "nbconvert_exporter": "python",
   "pygments_lexer": "ipython3",
   "version": "3.8.8"
  }
 },
 "nbformat": 4,
 "nbformat_minor": 5
}
