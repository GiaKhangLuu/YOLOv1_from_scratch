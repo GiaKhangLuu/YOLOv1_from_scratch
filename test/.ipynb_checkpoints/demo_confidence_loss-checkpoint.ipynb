{
 "cells": [
  {
   "cell_type": "code",
   "execution_count": 1,
   "id": "4cb0a0ed",
   "metadata": {},
   "outputs": [],
   "source": [
    "import tensorflow as tf\n",
    "import numpy as np\n",
    "\n",
    "import sys\n",
    "sys.path.append('../')\n",
    "\n",
    "import dataset\n",
    "import models\n",
    "from utils import iou\n",
    "\n",
    "input_shape = (448, 448, 3)\n",
    "seed = 42"
   ]
  },
  {
   "cell_type": "code",
   "execution_count": 2,
   "id": "e98be1df",
   "metadata": {},
   "outputs": [
    {
     "ename": "FileNotFoundError",
     "evalue": "[Errno 2] No such file or directory: './fruits_dataset/train'",
     "output_type": "error",
     "traceback": [
      "\u001b[0;31m---------------------------------------------------------------------------\u001b[0m",
      "\u001b[0;31mFileNotFoundError\u001b[0m                         Traceback (most recent call last)",
      "\u001b[0;32m<ipython-input-2-bc5fb5e99557>\u001b[0m in \u001b[0;36m<module>\u001b[0;34m\u001b[0m\n\u001b[0;32m----> 1\u001b[0;31m \u001b[0mtrain_df\u001b[0m \u001b[0;34m=\u001b[0m \u001b[0mdataset\u001b[0m\u001b[0;34m.\u001b[0m\u001b[0mget_dataframe\u001b[0m\u001b[0;34m(\u001b[0m\u001b[0;34m'./fruits_dataset/train'\u001b[0m\u001b[0;34m)\u001b[0m\u001b[0;34m\u001b[0m\u001b[0;34m\u001b[0m\u001b[0m\n\u001b[0m\u001b[1;32m      2\u001b[0m \u001b[0mtrain_dataset\u001b[0m \u001b[0;34m=\u001b[0m \u001b[0mdataset\u001b[0m\u001b[0;34m.\u001b[0m\u001b[0mload_dataset_from_df\u001b[0m\u001b[0;34m(\u001b[0m\u001b[0mtrain_df\u001b[0m\u001b[0;34m,\u001b[0m \u001b[0mnum_epochs\u001b[0m\u001b[0;34m=\u001b[0m\u001b[0;36m10\u001b[0m\u001b[0;34m,\u001b[0m \u001b[0mseed\u001b[0m\u001b[0;34m=\u001b[0m\u001b[0mseed\u001b[0m\u001b[0;34m)\u001b[0m\u001b[0;34m\u001b[0m\u001b[0;34m\u001b[0m\u001b[0m\n",
      "\u001b[0;32m~/ML-DL/Project/YOLOv1_from_scratch/dataset.py\u001b[0m in \u001b[0;36mget_dataframe\u001b[0;34m(file_dir)\u001b[0m\n\u001b[1;32m     34\u001b[0m \u001b[0;34m\u001b[0m\u001b[0m\n\u001b[1;32m     35\u001b[0m     img_files = [os.path.join(file_dir, img_file) for img_file\n\u001b[0;32m---> 36\u001b[0;31m                  in sorted(os.listdir(file_dir)) if img_file[-4:] == '.jpg']\n\u001b[0m\u001b[1;32m     37\u001b[0m     \u001b[0mannot_files\u001b[0m \u001b[0;34m=\u001b[0m \u001b[0;34m[\u001b[0m\u001b[0mimg_file\u001b[0m\u001b[0;34m[\u001b[0m\u001b[0;34m:\u001b[0m\u001b[0;34m-\u001b[0m\u001b[0;36m4\u001b[0m\u001b[0;34m]\u001b[0m \u001b[0;34m+\u001b[0m \u001b[0;34m'.xml'\u001b[0m \u001b[0;32mfor\u001b[0m \u001b[0mimg_file\u001b[0m \u001b[0;32min\u001b[0m \u001b[0mimg_files\u001b[0m\u001b[0;34m]\u001b[0m\u001b[0;34m\u001b[0m\u001b[0;34m\u001b[0m\u001b[0m\n\u001b[1;32m     38\u001b[0m \u001b[0;34m\u001b[0m\u001b[0m\n",
      "\u001b[0;31mFileNotFoundError\u001b[0m: [Errno 2] No such file or directory: './fruits_dataset/train'"
     ]
    }
   ],
   "source": [
    "train_df = dataset.get_dataframe('./fruits_dataset/train')\n",
    "train_dataset = dataset.load_dataset_from_df(train_df, num_epochs=10, seed=seed)"
   ]
  },
  {
   "cell_type": "code",
   "execution_count": null,
   "id": "9dc031df",
   "metadata": {},
   "outputs": [],
   "source": [
    "first_batch = next(iter(train_dataset))\n",
    "batch_input = first_batch[0]\n",
    "batch_target = first_batch[1]"
   ]
  },
  {
   "cell_type": "code",
   "execution_count": null,
   "id": "ee46a9e5",
   "metadata": {},
   "outputs": [],
   "source": [
    "yolo = models.YoloV1(input_shape=input_shape, num_classes=3)"
   ]
  },
  {
   "cell_type": "code",
   "execution_count": null,
   "id": "cc2aedb5",
   "metadata": {},
   "outputs": [],
   "source": [
    "batch_output = yolo(batch_input)"
   ]
  },
  {
   "cell_type": "code",
   "execution_count": null,
   "id": "f69f5321",
   "metadata": {},
   "outputs": [],
   "source": [
    "t_cellbox = batch_target[..., :4]\n",
    "t_obj = batch_target[..., 4]\n",
    "t_cls = batch_target[..., 5:]\n",
    "\n",
    "o_cellbox1 = batch_output[..., :4]\n",
    "o_obj1 = batch_output[..., 4]\n",
    "o_cellbox2 = batch_output[..., 5:9]\n",
    "o_obj2 = batch_output[..., 9]\n",
    "o_cls = batch_output[..., 10:]"
   ]
  },
  {
   "cell_type": "code",
   "execution_count": null,
   "id": "c503bc00",
   "metadata": {},
   "outputs": [],
   "source": [
    "def convert_xy_offset_to_xy_center(cellboxes):\n",
    "    x_offset = cellboxes[..., 0]\n",
    "    y_offset = cellboxes[..., 1]\n",
    "    w = cellboxes[..., 2]\n",
    "    h = cellboxes[..., 3]\n",
    "    \n",
    "    num_w_cells = x_offset.shape[-1]\n",
    "    num_h_cells = x_offset.shape[-2]\n",
    "    \n",
    "    # w_cell_indices: [[0, 1, 2, ...], [0, 1, 2, ...], ...]\n",
    "    w_cell_indices = np.array(range(num_w_cells))\n",
    "    w_cell_indices = np.broadcast_to(w_cell_indices, x_offset.shape)\n",
    "    \n",
    "    # h_cell_indices: [[0, 0, 0, ...], [1, 1, 1, ...], ....]\n",
    "    h_cell_indices = np.array(range(num_h_cells))\n",
    "    h_cell_indices = np.repeat(h_cell_indices, 7, 0).reshape(x_offset.shape[-2:])\n",
    "    h_cell_indices = np.broadcast_to(h_cell_indices, x_offset.shape)\n",
    "    \n",
    "    x_center = (x_offset + w_cell_indices) / num_w_cells\n",
    "    y_center = (y_offset + h_cell_indices) / num_h_cells\n",
    "    \n",
    "    mask = tf.cast((x_offset > 0), tf.float32)\n",
    "    \n",
    "    x_center *= mask\n",
    "    y_center *= mask\n",
    "    \n",
    "    xy = tf.stack([x_center, y_center], axis=-1)\n",
    "    \n",
    "    w = tf.expand_dims(w, -1)\n",
    "    h = tf.expand_dims(h, -1)\n",
    "    \n",
    "    bboxes = tf.concat([xy, w, h], axis=-1)\n",
    "    \n",
    "    return bboxes\n",
    "\n",
    "def convert_to_corner_bbox(cellboxes):\n",
    "    bboxes = convert_xy_offset_to_xy_center(cellboxes)\n",
    "    x, y, w, h = bboxes[..., 0], bboxes[..., 1], bboxes[..., 2], bboxes[..., 3]\n",
    "    \n",
    "    x_min = x - (w / 2)\n",
    "    y_min = y - (h / 2)\n",
    "    x_max = x + (w / 2)\n",
    "    y_max = y + (h / 2)\n",
    "    \n",
    "    corner_bboxes = tf.stack([x_min, y_min, x_max, y_max], axis=-1)\n",
    "        \n",
    "    return corner_bboxes"
   ]
  },
  {
   "cell_type": "code",
   "execution_count": null,
   "id": "6e907c02",
   "metadata": {},
   "outputs": [],
   "source": [
    "t_corner_bbox = convert_to_corner_bbox(t_cellbox)\n",
    "o_corner_bbox1 = convert_to_corner_bbox(o_cellbox1)\n",
    "o_corner_bbox2 = convert_to_corner_bbox(o_cellbox2)"
   ]
  },
  {
   "cell_type": "code",
   "execution_count": null,
   "id": "61322b24",
   "metadata": {},
   "outputs": [],
   "source": [
    "iou_box1 = iou(o_corner_bbox1, t_corner_bbox)\n",
    "iou_box2 = iou(o_corner_bbox2, t_corner_bbox)"
   ]
  },
  {
   "cell_type": "code",
   "execution_count": null,
   "id": "e56dfb2c",
   "metadata": {},
   "outputs": [],
   "source": [
    "ious = tf.stack([iou_box1, iou_box2], axis=-1)"
   ]
  },
  {
   "cell_type": "code",
   "execution_count": null,
   "id": "0debe9cd",
   "metadata": {},
   "outputs": [],
   "source": [
    "best_box = tf.math.argmax(ious, axis=-1)\n",
    "best_box = tf.cast(best_box, tf.float32)"
   ]
  },
  {
   "cell_type": "code",
   "execution_count": null,
   "id": "3625d7f1",
   "metadata": {},
   "outputs": [],
   "source": []
  },
  {
   "cell_type": "code",
   "execution_count": null,
   "id": "d5d04901",
   "metadata": {},
   "outputs": [],
   "source": []
  },
  {
   "cell_type": "code",
   "execution_count": null,
   "id": "0277aa05",
   "metadata": {},
   "outputs": [],
   "source": []
  },
  {
   "cell_type": "code",
   "execution_count": null,
   "id": "af1748ef",
   "metadata": {},
   "outputs": [],
   "source": []
  },
  {
   "cell_type": "markdown",
   "id": "79194537",
   "metadata": {},
   "source": [
    "# **Demo confidence loss**"
   ]
  },
  {
   "cell_type": "markdown",
   "id": "e71c0351",
   "metadata": {},
   "source": [
    "## **Obj loss**"
   ]
  },
  {
   "cell_type": "code",
   "execution_count": null,
   "id": "d124bccf",
   "metadata": {},
   "outputs": [],
   "source": [
    "predicted_obj1 = o_obj1 * t_obj * (1 - best_box)\n",
    "predicted_obj2 = o_obj2 * t_obj * best_box "
   ]
  },
  {
   "cell_type": "code",
   "execution_count": null,
   "id": "7dbbd482",
   "metadata": {},
   "outputs": [],
   "source": [
    "predicted_obj = predicted_obj1 + predicted_obj2"
   ]
  },
  {
   "cell_type": "code",
   "execution_count": null,
   "id": "7ac9d76c",
   "metadata": {},
   "outputs": [],
   "source": [
    "sqr_err = tf.square(t_obj - predicted_obj)"
   ]
  },
  {
   "cell_type": "code",
   "execution_count": null,
   "id": "b3198e2f",
   "metadata": {},
   "outputs": [],
   "source": [
    "single_loss = tf.reduce_sum(sqr_err, [1, 2])"
   ]
  },
  {
   "cell_type": "code",
   "execution_count": null,
   "id": "660b57cd",
   "metadata": {},
   "outputs": [],
   "source": [
    "batch_loss = tf.reduce_mean(single_loss)\n",
    "batch_loss"
   ]
  },
  {
   "cell_type": "code",
   "execution_count": null,
   "id": "4643355d",
   "metadata": {},
   "outputs": [],
   "source": [
    "single_loss[0]"
   ]
  },
  {
   "cell_type": "code",
   "execution_count": null,
   "id": "cba19e9d",
   "metadata": {},
   "outputs": [],
   "source": []
  },
  {
   "cell_type": "code",
   "execution_count": null,
   "id": "74268200",
   "metadata": {},
   "outputs": [],
   "source": []
  },
  {
   "cell_type": "markdown",
   "id": "29f86fce",
   "metadata": {},
   "source": [
    "## **No obj loss**"
   ]
  },
  {
   "cell_type": "code",
   "execution_count": null,
   "id": "9dfad62b",
   "metadata": {},
   "outputs": [],
   "source": [
    "t_noobj = 1 - t_obj\n",
    "noobj_weight = 0.5"
   ]
  },
  {
   "cell_type": "code",
   "execution_count": null,
   "id": "9405b755",
   "metadata": {},
   "outputs": [],
   "source": [
    "predicted_noobj1 = o_obj1 * t_noobj\n",
    "predicted_noobj2 = o_obj2 * t_noobj"
   ]
  },
  {
   "cell_type": "code",
   "execution_count": null,
   "id": "2e360955",
   "metadata": {},
   "outputs": [],
   "source": [
    "sqr_err_noobj1 = tf.square((t_obj * t_noobj) - predicted_noobj1)\n",
    "sqr_err_noobj2 = tf.square((t_obj * t_noobj) - predicted_noobj2)"
   ]
  },
  {
   "cell_type": "code",
   "execution_count": null,
   "id": "37a56e5e",
   "metadata": {},
   "outputs": [],
   "source": [
    "sqr_err_noobj = tf.reduce_sum(sqr_err_noobj1 + sqr_err_noobj2, [1, 2])"
   ]
  },
  {
   "cell_type": "code",
   "execution_count": null,
   "id": "917478bf",
   "metadata": {},
   "outputs": [],
   "source": [
    "batch_loss = noobj_weight * tf.reduce_mean(sqr_err_noobj)"
   ]
  },
  {
   "cell_type": "code",
   "execution_count": null,
   "id": "6e82e06c",
   "metadata": {},
   "outputs": [],
   "source": [
    "batch_loss"
   ]
  },
  {
   "cell_type": "code",
   "execution_count": null,
   "id": "fc0191e9",
   "metadata": {},
   "outputs": [],
   "source": [
    "sqr_err_noobj[0]"
   ]
  },
  {
   "cell_type": "code",
   "execution_count": null,
   "id": "c3128acf",
   "metadata": {},
   "outputs": [],
   "source": []
  },
  {
   "cell_type": "code",
   "execution_count": null,
   "id": "fc40154e",
   "metadata": {},
   "outputs": [],
   "source": []
  },
  {
   "cell_type": "code",
   "execution_count": null,
   "id": "9f503902",
   "metadata": {},
   "outputs": [],
   "source": []
  },
  {
   "cell_type": "code",
   "execution_count": null,
   "id": "7d733d33",
   "metadata": {},
   "outputs": [],
   "source": []
  },
  {
   "cell_type": "markdown",
   "id": "19fb2041",
   "metadata": {},
   "source": [
    "## **Combine obj & no-obj loss**"
   ]
  },
  {
   "cell_type": "code",
   "execution_count": null,
   "id": "dd6abb9a",
   "metadata": {},
   "outputs": [],
   "source": [
    "train_df = dataset.get_dataframe('./fruits_dataset/train')\n",
    "train_dataset = dataset.load_dataset_from_df(train_df, num_epochs=1, batch_size=1)"
   ]
  },
  {
   "cell_type": "code",
   "execution_count": null,
   "id": "66ade22c",
   "metadata": {},
   "outputs": [],
   "source": [
    "first_batch = next(iter(train_dataset))\n",
    "batch_input = first_batch[0]\n",
    "batch_target = first_batch[1]"
   ]
  },
  {
   "cell_type": "code",
   "execution_count": null,
   "id": "be854f54",
   "metadata": {},
   "outputs": [],
   "source": [
    "yolo = models.YoloV1(input_shape=input_shape, num_classes=3)"
   ]
  },
  {
   "cell_type": "code",
   "execution_count": null,
   "id": "4aa51055",
   "metadata": {},
   "outputs": [],
   "source": [
    "with tf.GradientTape() as tape:\n",
    "    batch_output = yolo(batch_input)\n",
    "    noobj_weight = 0.5\n",
    "    \n",
    "    # Get xywh, obj, class\n",
    "    t_cellbox = batch_target[..., :4]\n",
    "    t_obj = batch_target[..., 4]\n",
    "    t_cls = batch_target[..., 5:]\n",
    "    \n",
    "    o_cellbox1 = batch_output[..., :4]\n",
    "    o_obj1 = batch_output[..., 4]\n",
    "    o_cellbox2 = batch_output[..., 5:9]\n",
    "    o_obj2 = batch_output[..., 9]\n",
    "    o_cls = batch_output[..., 10:]\n",
    "    \n",
    "    # Get the highest iou\n",
    "    t_corner_bbox = convert_to_corner_bbox(t_cellbox)\n",
    "    o_corner_bbox1 = convert_to_corner_bbox(o_cellbox1)\n",
    "    o_corner_bbox2 = convert_to_corner_bbox(o_cellbox2)\n",
    "    \n",
    "    iou_box1 = iou(o_corner_bbox1, t_corner_bbox)\n",
    "    iou_box2 = iou(o_corner_bbox2, t_corner_bbox)\n",
    "    ious = tf.stack([iou_box1, iou_box2], axis=-1)\n",
    "    best_box = tf.math.argmax(ious, axis=-1)\n",
    "    best_box = tf.cast(best_box, tf.float32)\n",
    "    \n",
    "    # Compute no obj loss\n",
    "    noobj_mask = 1 - t_obj\n",
    "    o_noobj1, o_noobj2 = o_obj1 * noobj_mask, o_obj2 * noobj_mask\n",
    "    sqr_err_noobj1 = tf.square((t_obj * noobj_mask) - o_noobj1)\n",
    "    sqr_err_noobj2 = tf.square((t_obj * noobj_mask) - o_noobj2)\n",
    "    single_sse_noobj = tf.reduce_sum(sqr_err_noobj1 + sqr_err_noobj2, [1, 2])\n",
    "    noobj_loss = noobj_weight * tf.reduce_mean(single_sse_noobj)\n",
    "    \n",
    "    # Compute obj loss\n",
    "    predicted_obj1 = o_obj1 * t_obj * (1 - best_box)\n",
    "    predicted_obj2 = o_obj2 * t_obj * best_box \n",
    "    predicted_obj = predicted_obj1 + predicted_obj2\n",
    "    sqr_err_obj = tf.square(t_obj - predicted_obj)\n",
    "    single_sse_obj = tf.reduce_sum(sqr_err_obj, [1, 2])\n",
    "    obj_loss = tf.reduce_mean(single_sse_obj)\n",
    "    \n",
    "    loss =  obj_loss + (noobj_weight * noobj_loss)\n",
    "    \n",
    "grad = tape.gradient(loss, yolo.trainable_variables)"
   ]
  },
  {
   "cell_type": "code",
   "execution_count": null,
   "id": "4a869964",
   "metadata": {},
   "outputs": [],
   "source": [
    "tf.reduce_sum(tf.cast(grad[-1] != 0, tf.int32)) == 97"
   ]
  },
  {
   "cell_type": "code",
   "execution_count": null,
   "id": "b1519c6b",
   "metadata": {},
   "outputs": [],
   "source": [
    "tf.reduce_sum(tf.cast(grad[-2] != 0, tf.int32)) == 4096 * 97"
   ]
  },
  {
   "cell_type": "code",
   "execution_count": null,
   "id": "178d3e46",
   "metadata": {},
   "outputs": [],
   "source": [
    "loss"
   ]
  },
  {
   "cell_type": "code",
   "execution_count": null,
   "id": "d474a55e",
   "metadata": {},
   "outputs": [],
   "source": [
    "single_loss[0] + (noobj_weight * sqr_err_noobj[0])"
   ]
  },
  {
   "cell_type": "code",
   "execution_count": null,
   "id": "295b3b2c",
   "metadata": {},
   "outputs": [],
   "source": []
  },
  {
   "cell_type": "code",
   "execution_count": null,
   "id": "b4a75be3",
   "metadata": {},
   "outputs": [],
   "source": []
  },
  {
   "cell_type": "code",
   "execution_count": null,
   "id": "cc88e1fd",
   "metadata": {},
   "outputs": [],
   "source": []
  },
  {
   "cell_type": "code",
   "execution_count": null,
   "id": "cd1ea6b0",
   "metadata": {},
   "outputs": [],
   "source": []
  },
  {
   "cell_type": "code",
   "execution_count": null,
   "id": "46a22025",
   "metadata": {},
   "outputs": [],
   "source": []
  }
 ],
 "metadata": {
  "kernelspec": {
   "display_name": "Python 3",
   "language": "python",
   "name": "python3"
  },
  "language_info": {
   "codemirror_mode": {
    "name": "ipython",
    "version": 3
   },
   "file_extension": ".py",
   "mimetype": "text/x-python",
   "name": "python",
   "nbconvert_exporter": "python",
   "pygments_lexer": "ipython3",
   "version": "3.8.8"
  }
 },
 "nbformat": 4,
 "nbformat_minor": 5
}
