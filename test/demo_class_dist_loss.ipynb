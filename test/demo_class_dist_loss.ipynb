{
 "cells": [
  {
   "cell_type": "code",
   "execution_count": 1,
   "id": "c8616147",
   "metadata": {},
   "outputs": [],
   "source": [
    "import tensorflow as tf\n",
    "import models\n",
    "from tensorflow.keras.layers import Lambda, Dense, InputLayer, Reshape\n",
    "from tensorflow.keras.models import Sequential\n",
    "from utils import iou\n",
    "import numpy as np\n",
    "\n",
    "seed = 42\n",
    "input_shape = (448, 448, 3)\n",
    "S, B, C = 7, 2, 3"
   ]
  },
  {
   "cell_type": "code",
   "execution_count": 2,
   "id": "797ae4cb",
   "metadata": {},
   "outputs": [],
   "source": [
    "np.random.seed(seed)\n",
    "x = tf.random.normal((10, *input_shape))\n",
    "yolo = models.YoloV1(input_shape=input_shape, grid_size=S, num_boxes=2, num_classes=C)\n",
    "y_pred = yolo(x)"
   ]
  },
  {
   "cell_type": "code",
   "execution_count": 3,
   "id": "2d0316b1",
   "metadata": {},
   "outputs": [],
   "source": [
    "np.random.seed(seed)\n",
    "y_target = tf.random.normal((10, S, S, 5 + C))"
   ]
  },
  {
   "cell_type": "code",
   "execution_count": null,
   "id": "a02d5be9",
   "metadata": {},
   "outputs": [],
   "source": []
  },
  {
   "cell_type": "code",
   "execution_count": null,
   "id": "b5928d4f",
   "metadata": {},
   "outputs": [],
   "source": []
  },
  {
   "cell_type": "code",
   "execution_count": null,
   "id": "6331cde9",
   "metadata": {},
   "outputs": [],
   "source": []
  },
  {
   "cell_type": "code",
   "execution_count": null,
   "id": "1ea32621",
   "metadata": {},
   "outputs": [],
   "source": []
  },
  {
   "cell_type": "code",
   "execution_count": null,
   "id": "794705af",
   "metadata": {},
   "outputs": [],
   "source": []
  },
  {
   "cell_type": "code",
   "execution_count": null,
   "id": "910f4885",
   "metadata": {},
   "outputs": [],
   "source": []
  },
  {
   "cell_type": "markdown",
   "id": "d500f4d7",
   "metadata": {},
   "source": [
    "# **Demo class dist. loss**"
   ]
  },
  {
   "cell_type": "code",
   "execution_count": 4,
   "id": "14e4f15c",
   "metadata": {},
   "outputs": [],
   "source": [
    "model = Sequential([\n",
    "    Dense(7 * 7 * 3),\n",
    "    Reshape((7, 7, 3))\n",
    "])"
   ]
  },
  {
   "cell_type": "code",
   "execution_count": 5,
   "id": "63ee5812",
   "metadata": {},
   "outputs": [],
   "source": [
    "np.random.seed(42)\n",
    "x = np.random.normal(size=(2, 10))\n",
    "np.random.seed(42)\n",
    "target = np.random.normal(size=(2, 7, 7, 3))\n",
    "#output = model(x)"
   ]
  },
  {
   "cell_type": "code",
   "execution_count": 6,
   "id": "141785fa",
   "metadata": {},
   "outputs": [],
   "source": [
    "with tf.GradientTape() as tape:\n",
    "    output = model(x)\n",
    "    \n",
    "    err = target - output\n",
    "    sqr_err = tf.square(err)\n",
    "    sum_err = tf.reduce_sum(sqr_err, axis=-1)\n",
    "    \n",
    "    mask = (target > 1).astype(np.float32)\n",
    "    mask = tf.reduce_sum(mask, axis=-1)\n",
    "    \n",
    "    loss = tf.reduce_sum((sum_err * mask))\n",
    "    \n",
    "[dw_dL, db_dL] = tape.gradient(loss, model.trainable_variables)"
   ]
  },
  {
   "cell_type": "code",
   "execution_count": 7,
   "id": "71324b34",
   "metadata": {
    "scrolled": true
   },
   "outputs": [
    {
     "data": {
      "text/plain": [
       "<tf.Tensor: shape=(), dtype=float32, numpy=208.70157>"
      ]
     },
     "execution_count": 7,
     "metadata": {},
     "output_type": "execute_result"
    }
   ],
   "source": [
    "loss"
   ]
  },
  {
   "cell_type": "code",
   "execution_count": 11,
   "id": "e7c1f911",
   "metadata": {},
   "outputs": [
    {
     "data": {
      "text/plain": [
       "<tf.Tensor: shape=(147,), dtype=float32, numpy=\n",
       "array([ 0.        ,  0.        ,  0.        , -1.6864551 , -0.3555583 ,\n",
       "        0.18620792, -2.073008  , -0.80940145,  0.72315085,  1.4507877 ,\n",
       "        1.2334487 , -1.3799481 ,  0.        ,  0.        ,  0.        ,\n",
       "        1.2877387 , -0.64275694,  0.6712321 ,  0.8939582 ,  2.737662  ,\n",
       "        0.36885446,  0.        ,  0.        ,  0.        ,  0.        ,\n",
       "        0.        ,  0.        ,  0.        ,  0.        ,  0.        ,\n",
       "        3.2702227 , -3.3465273 ,  4.555057  ,  0.        ,  0.        ,\n",
       "        0.        ,  0.        ,  0.        ,  0.        ,  0.        ,\n",
       "        0.        ,  0.        ,  0.        ,  0.        ,  0.        ,\n",
       "        1.1048365 ,  0.13467933, -1.0378306 ,  0.        ,  0.        ,\n",
       "        0.        ,  0.        ,  0.        ,  0.        , -0.9072291 ,\n",
       "       -0.33104014,  1.7606881 ,  0.        ,  0.        ,  0.        ,\n",
       "        0.49192   ,  0.7697021 ,  3.0613167 ,  2.287197  ,  0.6037471 ,\n",
       "       -0.40573996,  0.2697261 , -1.148089  , -0.541558  ,  0.707532  ,\n",
       "       -0.61593586, -1.5495954 , -0.4131007 ,  1.3256654 ,  0.6232008 ,\n",
       "        0.        ,  0.        ,  0.        ,  0.9266208 ,  0.09980197,\n",
       "       -0.7325875 ,  0.06969745, -1.2900568 ,  0.92158353,  0.        ,\n",
       "        0.        ,  0.        ,  2.1084359 ,  0.49522617, -1.5661294 ,\n",
       "        0.        ,  0.        ,  0.        ,  0.        ,  0.        ,\n",
       "        0.        ,  0.        ,  0.        ,  0.        , -0.2534992 ,\n",
       "       -0.613527  ,  2.0266054 ,  0.        ,  0.        ,  0.        ,\n",
       "        3.2448792 ,  0.01079768, -3.2637472 , -0.22467518,  0.8506405 ,\n",
       "       -0.39453205, -0.04204832,  0.4785417 , -2.1685398 ,  0.        ,\n",
       "        0.        ,  0.        ,  1.6079556 , -2.865823  ,  0.18369369,\n",
       "       -1.1688935 ,  0.95992917, -1.6663474 ,  5.98824   , -2.1925104 ,\n",
       "        0.1718678 ,  0.        ,  0.        ,  0.        ,  0.        ,\n",
       "        0.        ,  0.        ,  0.        ,  0.        ,  0.        ,\n",
       "        0.3200409 , -2.1057441 ,  3.7089338 ,  0.        ,  0.        ,\n",
       "        0.        , -1.1908891 ,  1.9614675 , -0.03685637,  0.        ,\n",
       "        0.        ,  0.        ], dtype=float32)>"
      ]
     },
     "execution_count": 11,
     "metadata": {},
     "output_type": "execute_result"
    }
   ],
   "source": [
    "dw_dL[0]"
   ]
  },
  {
   "cell_type": "code",
   "execution_count": null,
   "id": "4b7c44cc",
   "metadata": {},
   "outputs": [],
   "source": []
  }
 ],
 "metadata": {
  "kernelspec": {
   "display_name": "Python 3",
   "language": "python",
   "name": "python3"
  },
  "language_info": {
   "codemirror_mode": {
    "name": "ipython",
    "version": 3
   },
   "file_extension": ".py",
   "mimetype": "text/x-python",
   "name": "python",
   "nbconvert_exporter": "python",
   "pygments_lexer": "ipython3",
   "version": "3.8.8"
  }
 },
 "nbformat": 4,
 "nbformat_minor": 5
}
