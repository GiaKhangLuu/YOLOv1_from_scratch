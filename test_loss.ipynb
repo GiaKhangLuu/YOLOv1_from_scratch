{
 "cells": [
  {
   "cell_type": "code",
   "execution_count": 1,
   "id": "679eabc2",
   "metadata": {},
   "outputs": [],
   "source": [
    "import tensorflow as tf\n",
    "import numpy as np\n",
    "import dataset\n",
    "import models\n",
    "from utils import iou\n",
    "from loss import YoloLoss\n",
    "\n",
    "input_shape = (448, 448, 3)\n",
    "seed = 42"
   ]
  },
  {
   "cell_type": "code",
   "execution_count": 2,
   "id": "6a8501c9",
   "metadata": {},
   "outputs": [
    {
     "name": "stderr",
     "output_type": "stream",
     "text": [
      "28it [00:00, 55.22it/s]/opt/anaconda3/lib/python3.8/site-packages/PIL/Image.py:962: UserWarning: Palette images with Transparency expressed in bytes should be converted to RGBA images\n",
      "  warnings.warn(\n",
      "240it [00:05, 47.02it/s]\n"
     ]
    }
   ],
   "source": [
    "train_df = dataset.get_dataframe('./fruits_dataset/train')\n",
    "train_dataset = dataset.load_dataset_from_df(train_df, num_epochs=1, batch_size=16, seed=seed)"
   ]
  },
  {
   "cell_type": "code",
   "execution_count": 3,
   "id": "ebb54266",
   "metadata": {},
   "outputs": [],
   "source": [
    "first_batch = next(iter(train_dataset))\n",
    "batch_input = first_batch[0]\n",
    "batch_target = first_batch[1]"
   ]
  },
  {
   "cell_type": "code",
   "execution_count": 4,
   "id": "adeafa65",
   "metadata": {},
   "outputs": [],
   "source": [
    "yolo = models.YoloV1(input_shape=input_shape, num_classes=3)\n",
    "yolo_loss = YoloLoss()"
   ]
  },
  {
   "cell_type": "code",
   "execution_count": 5,
   "id": "40c12d66",
   "metadata": {},
   "outputs": [],
   "source": [
    "with tf.GradientTape() as tape:\n",
    "    batch_output = yolo(batch_input)\n",
    "    \n",
    "    loss = yolo_loss(batch_target, batch_output)\n",
    "    \n",
    "grad = tape.gradient(loss, yolo.trainable_variables)"
   ]
  },
  {
   "cell_type": "code",
   "execution_count": 6,
   "id": "6cdc8f44",
   "metadata": {
    "scrolled": true
   },
   "outputs": [
    {
     "data": {
      "text/plain": [
       "<tf.Tensor: shape=(), dtype=float32, numpy=15.149359>"
      ]
     },
     "execution_count": 6,
     "metadata": {},
     "output_type": "execute_result"
    }
   ],
   "source": [
    "loss"
   ]
  },
  {
   "cell_type": "code",
   "execution_count": null,
   "id": "72c9f8ce",
   "metadata": {
    "scrolled": true
   },
   "outputs": [],
   "source": []
  },
  {
   "cell_type": "code",
   "execution_count": null,
   "id": "0010a625",
   "metadata": {
    "scrolled": true
   },
   "outputs": [],
   "source": []
  },
  {
   "cell_type": "code",
   "execution_count": null,
   "id": "65bccc61",
   "metadata": {
    "scrolled": true
   },
   "outputs": [],
   "source": []
  },
  {
   "cell_type": "code",
   "execution_count": null,
   "id": "cf17a937",
   "metadata": {
    "scrolled": true
   },
   "outputs": [],
   "source": []
  },
  {
   "cell_type": "code",
   "execution_count": null,
   "id": "9fe7ba26",
   "metadata": {},
   "outputs": [],
   "source": []
  }
 ],
 "metadata": {
  "kernelspec": {
   "display_name": "Python 3",
   "language": "python",
   "name": "python3"
  },
  "language_info": {
   "codemirror_mode": {
    "name": "ipython",
    "version": 3
   },
   "file_extension": ".py",
   "mimetype": "text/x-python",
   "name": "python",
   "nbconvert_exporter": "python",
   "pygments_lexer": "ipython3",
   "version": "3.8.8"
  }
 },
 "nbformat": 4,
 "nbformat_minor": 5
}
